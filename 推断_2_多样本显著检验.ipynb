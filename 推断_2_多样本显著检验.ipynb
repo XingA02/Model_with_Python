{
 "cells": [
  {
   "cell_type": "markdown",
   "metadata": {},
   "source": [
    "# 多样本显著性检验——方差分析以及非参数检验"
   ]
  },
  {
   "cell_type": "code",
   "execution_count": 1,
   "metadata": {},
   "outputs": [
    {
     "data": {
      "text/html": [
       "<div>\n",
       "<style scoped>\n",
       "    .dataframe tbody tr th:only-of-type {\n",
       "        vertical-align: middle;\n",
       "    }\n",
       "\n",
       "    .dataframe tbody tr th {\n",
       "        vertical-align: top;\n",
       "    }\n",
       "\n",
       "    .dataframe thead th {\n",
       "        text-align: right;\n",
       "    }\n",
       "</style>\n",
       "<table border=\"1\" class=\"dataframe\">\n",
       "  <thead>\n",
       "    <tr style=\"text-align: right;\">\n",
       "      <th></th>\n",
       "      <th>Blend</th>\n",
       "      <th>Crop</th>\n",
       "      <th>Yield</th>\n",
       "    </tr>\n",
       "  </thead>\n",
       "  <tbody>\n",
       "    <tr>\n",
       "      <th>0</th>\n",
       "      <td>Blend X</td>\n",
       "      <td>Wheat</td>\n",
       "      <td>123</td>\n",
       "    </tr>\n",
       "    <tr>\n",
       "      <th>1</th>\n",
       "      <td>Blend X</td>\n",
       "      <td>Wheat</td>\n",
       "      <td>156</td>\n",
       "    </tr>\n",
       "    <tr>\n",
       "      <th>2</th>\n",
       "      <td>Blend X</td>\n",
       "      <td>Wheat</td>\n",
       "      <td>112</td>\n",
       "    </tr>\n",
       "    <tr>\n",
       "      <th>3</th>\n",
       "      <td>Blend X</td>\n",
       "      <td>Wheat</td>\n",
       "      <td>100</td>\n",
       "    </tr>\n",
       "    <tr>\n",
       "      <th>4</th>\n",
       "      <td>Blend X</td>\n",
       "      <td>Corn</td>\n",
       "      <td>128</td>\n",
       "    </tr>\n",
       "  </tbody>\n",
       "</table>\n",
       "</div>"
      ],
      "text/plain": [
       "     Blend   Crop  Yield\n",
       "0  Blend X  Wheat    123\n",
       "1  Blend X  Wheat    156\n",
       "2  Blend X  Wheat    112\n",
       "3  Blend X  Wheat    100\n",
       "4  Blend X   Corn    128"
      ]
     },
     "execution_count": 1,
     "metadata": {},
     "output_type": "execute_result"
    }
   ],
   "source": [
    "import pandas as pd\n",
    "import pingouin as pg\n",
    "\n",
    "df1 = pd.read_excel(\"data\\\\anova2.xlsx\")\n",
    "df1.head()"
   ]
  },
  {
   "cell_type": "code",
   "execution_count": 3,
   "metadata": {},
   "outputs": [
    {
     "data": {
      "text/html": [
       "<div>\n",
       "<style scoped>\n",
       "    .dataframe tbody tr th:only-of-type {\n",
       "        vertical-align: middle;\n",
       "    }\n",
       "\n",
       "    .dataframe tbody tr th {\n",
       "        vertical-align: top;\n",
       "    }\n",
       "\n",
       "    .dataframe thead th {\n",
       "        text-align: right;\n",
       "    }\n",
       "</style>\n",
       "<table border=\"1\" class=\"dataframe\">\n",
       "  <thead>\n",
       "    <tr style=\"text-align: right;\">\n",
       "      <th></th>\n",
       "      <th>Subject</th>\n",
       "      <th>Time</th>\n",
       "      <th>Metric</th>\n",
       "      <th>Performance</th>\n",
       "    </tr>\n",
       "  </thead>\n",
       "  <tbody>\n",
       "    <tr>\n",
       "      <th>0</th>\n",
       "      <td>1</td>\n",
       "      <td>Pre</td>\n",
       "      <td>Product</td>\n",
       "      <td>13</td>\n",
       "    </tr>\n",
       "    <tr>\n",
       "      <th>1</th>\n",
       "      <td>2</td>\n",
       "      <td>Pre</td>\n",
       "      <td>Product</td>\n",
       "      <td>12</td>\n",
       "    </tr>\n",
       "    <tr>\n",
       "      <th>2</th>\n",
       "      <td>3</td>\n",
       "      <td>Pre</td>\n",
       "      <td>Product</td>\n",
       "      <td>17</td>\n",
       "    </tr>\n",
       "    <tr>\n",
       "      <th>3</th>\n",
       "      <td>4</td>\n",
       "      <td>Pre</td>\n",
       "      <td>Product</td>\n",
       "      <td>12</td>\n",
       "    </tr>\n",
       "    <tr>\n",
       "      <th>4</th>\n",
       "      <td>5</td>\n",
       "      <td>Pre</td>\n",
       "      <td>Product</td>\n",
       "      <td>19</td>\n",
       "    </tr>\n",
       "  </tbody>\n",
       "</table>\n",
       "</div>"
      ],
      "text/plain": [
       "   Subject Time   Metric  Performance\n",
       "0        1  Pre  Product           13\n",
       "1        2  Pre  Product           12\n",
       "2        3  Pre  Product           17\n",
       "3        4  Pre  Product           12\n",
       "4        5  Pre  Product           19"
      ]
     },
     "execution_count": 3,
     "metadata": {},
     "output_type": "execute_result"
    }
   ],
   "source": [
    "df2 = pd.read_excel(\"data\\\\rm_anova2.xlsx\")\n",
    "df2.head()"
   ]
  },
  {
   "cell_type": "markdown",
   "metadata": {},
   "source": [
    "### 1. 单因素方差分析（One-Way ANOVA）\n",
    "\n",
    "**目的和用处：**\n",
    "- **目的：** 比较一个因素（或变量）在三个或三个以上不同水平（组别）之间的平均数是否有显著差异。\n",
    "- **用处：** 用于确定一个分类因素对观测变量的影响是否显著，例如不同教育水平对收入的影响、不同治疗方法对健康状况的影响等。\n",
    "\n",
    "**模型假设：**\n",
    "- **独立性假设：** 不同组别之间的观测值是相互独立的。\n",
    "- **正态性假设：** 每个组别内的观测值来自于正态分布。\n",
    "- **方差齐性假设：** 不同组别内的观测值具有相等的方差。\n"
   ]
  },
  {
   "cell_type": "code",
   "execution_count": 4,
   "metadata": {},
   "outputs": [
    {
     "data": {
      "text/html": [
       "<div>\n",
       "<style scoped>\n",
       "    .dataframe tbody tr th:only-of-type {\n",
       "        vertical-align: middle;\n",
       "    }\n",
       "\n",
       "    .dataframe tbody tr th {\n",
       "        vertical-align: top;\n",
       "    }\n",
       "\n",
       "    .dataframe thead th {\n",
       "        text-align: right;\n",
       "    }\n",
       "</style>\n",
       "<table border=\"1\" class=\"dataframe\">\n",
       "  <thead>\n",
       "    <tr style=\"text-align: right;\">\n",
       "      <th></th>\n",
       "      <th>Blend</th>\n",
       "      <th>Crop</th>\n",
       "      <th>Yield</th>\n",
       "    </tr>\n",
       "  </thead>\n",
       "  <tbody>\n",
       "    <tr>\n",
       "      <th>0</th>\n",
       "      <td>Blend X</td>\n",
       "      <td>Wheat</td>\n",
       "      <td>123</td>\n",
       "    </tr>\n",
       "    <tr>\n",
       "      <th>1</th>\n",
       "      <td>Blend X</td>\n",
       "      <td>Wheat</td>\n",
       "      <td>156</td>\n",
       "    </tr>\n",
       "    <tr>\n",
       "      <th>2</th>\n",
       "      <td>Blend X</td>\n",
       "      <td>Wheat</td>\n",
       "      <td>112</td>\n",
       "    </tr>\n",
       "    <tr>\n",
       "      <th>3</th>\n",
       "      <td>Blend X</td>\n",
       "      <td>Wheat</td>\n",
       "      <td>100</td>\n",
       "    </tr>\n",
       "    <tr>\n",
       "      <th>4</th>\n",
       "      <td>Blend X</td>\n",
       "      <td>Corn</td>\n",
       "      <td>128</td>\n",
       "    </tr>\n",
       "  </tbody>\n",
       "</table>\n",
       "</div>"
      ],
      "text/plain": [
       "     Blend   Crop  Yield\n",
       "0  Blend X  Wheat    123\n",
       "1  Blend X  Wheat    156\n",
       "2  Blend X  Wheat    112\n",
       "3  Blend X  Wheat    100\n",
       "4  Blend X   Corn    128"
      ]
     },
     "execution_count": 4,
     "metadata": {},
     "output_type": "execute_result"
    }
   ],
   "source": [
    "df1.head()"
   ]
  },
  {
   "cell_type": "code",
   "execution_count": 5,
   "metadata": {},
   "outputs": [
    {
     "name": "stdout",
     "output_type": "stream",
     "text": [
      "    Crop         W      pval  normal\n",
      "0   Corn  0.893707  0.253261    True\n",
      "1    Soy  0.977271  0.948163    True\n",
      "2  Wheat  0.949048  0.701627    True\n",
      "               W      pval  equal_var\n",
      "levene  0.856989  0.438757       True\n"
     ]
    }
   ],
   "source": [
    "# 各组正态性检验\n",
    "print(df1.groupby('Crop')['Yield'].apply(pg.normality).reset_index().drop('level_1', axis=1))\n",
    "\n",
    "# 组间方差齐性检验\n",
    "print(pg.homoscedasticity(df1, dv='Yield', group='Crop'))"
   ]
  },
  {
   "cell_type": "code",
   "execution_count": 6,
   "metadata": {},
   "outputs": [
    {
     "data": {
      "text/html": [
       "<div>\n",
       "<style scoped>\n",
       "    .dataframe tbody tr th:only-of-type {\n",
       "        vertical-align: middle;\n",
       "    }\n",
       "\n",
       "    .dataframe tbody tr th {\n",
       "        vertical-align: top;\n",
       "    }\n",
       "\n",
       "    .dataframe thead th {\n",
       "        text-align: right;\n",
       "    }\n",
       "</style>\n",
       "<table border=\"1\" class=\"dataframe\">\n",
       "  <thead>\n",
       "    <tr style=\"text-align: right;\">\n",
       "      <th></th>\n",
       "      <th>Source</th>\n",
       "      <th>ddof1</th>\n",
       "      <th>ddof2</th>\n",
       "      <th>F</th>\n",
       "      <th>p-unc</th>\n",
       "      <th>np2</th>\n",
       "    </tr>\n",
       "  </thead>\n",
       "  <tbody>\n",
       "    <tr>\n",
       "      <th>0</th>\n",
       "      <td>Crop</td>\n",
       "      <td>2</td>\n",
       "      <td>21</td>\n",
       "      <td>2.371707</td>\n",
       "      <td>0.117844</td>\n",
       "      <td>0.184257</td>\n",
       "    </tr>\n",
       "  </tbody>\n",
       "</table>\n",
       "</div>"
      ],
      "text/plain": [
       "  Source  ddof1  ddof2         F     p-unc       np2\n",
       "0   Crop      2     21  2.371707  0.117844  0.184257"
      ]
     },
     "execution_count": 6,
     "metadata": {},
     "output_type": "execute_result"
    }
   ],
   "source": [
    "# 如果数据满足ANOVA的假设（方差齐性和正态性），则进行单因素方差分析\n",
    "pg.anova(dv='Yield', between='Crop', data=df1)"
   ]
  },
  {
   "cell_type": "markdown",
   "metadata": {},
   "source": [
    "\n",
    "### 2. 二因素方差分析（Two-Way ANOVA）\n",
    "\n",
    "**目的和用处：**\n",
    "- **目的：** 比较两个因素（或变量）对观测变量的联合影响是否显著，包括各自主效应以及交互效应（两个因素联合起来对结果的影响是否显著）。\n",
    "- **用处：** 用于确定两个或多个因素之间的相互作用效应，例如性别和教育水平对收入的联合影响等。\n",
    "\n",
    "**模型假设：**\n",
    "- **独立性假设：** 不同组别之间的观测值是相互独立的。\n",
    "- **正态性假设：** 每个组别内的观测值来自于正态分布。\n",
    "- **方差齐性假设：** 不同组别内的观测值具有相等的方差。\n"
   ]
  },
  {
   "cell_type": "code",
   "execution_count": 7,
   "metadata": {},
   "outputs": [
    {
     "name": "stdout",
     "output_type": "stream",
     "text": [
      "    Crop         W      pval  normal\n",
      "0   Corn  0.893707  0.253261    True\n",
      "1    Soy  0.977271  0.948163    True\n",
      "2  Wheat  0.949048  0.701627    True\n",
      "     Blend         W      pval  normal\n",
      "0  Blend X  0.947000  0.593617    True\n",
      "1  Blend Y  0.888746  0.113534    True\n",
      "               W      pval  equal_var\n",
      "levene  0.856989  0.438757       True\n",
      "               W      pval  equal_var\n",
      "levene  0.830068  0.372128       True\n"
     ]
    }
   ],
   "source": [
    "# 各组正态性检验\n",
    "print(df1.groupby('Crop')['Yield'].apply(pg.normality).reset_index().drop('level_1', axis=1))\n",
    "print(df1.groupby('Blend')['Yield'].apply(pg.normality).reset_index().drop('level_1', axis=1))\n",
    "\n",
    "# 组间方差齐性检验\n",
    "print(pg.homoscedasticity(df1, dv='Yield', group='Crop'))\n",
    "print(pg.homoscedasticity(df1, dv='Yield', group='Blend'))"
   ]
  },
  {
   "cell_type": "code",
   "execution_count": 8,
   "metadata": {},
   "outputs": [
    {
     "data": {
      "text/html": [
       "<div>\n",
       "<style scoped>\n",
       "    .dataframe tbody tr th:only-of-type {\n",
       "        vertical-align: middle;\n",
       "    }\n",
       "\n",
       "    .dataframe tbody tr th {\n",
       "        vertical-align: top;\n",
       "    }\n",
       "\n",
       "    .dataframe thead th {\n",
       "        text-align: right;\n",
       "    }\n",
       "</style>\n",
       "<table border=\"1\" class=\"dataframe\">\n",
       "  <thead>\n",
       "    <tr style=\"text-align: right;\">\n",
       "      <th></th>\n",
       "      <th>Source</th>\n",
       "      <th>SS</th>\n",
       "      <th>DF</th>\n",
       "      <th>MS</th>\n",
       "      <th>F</th>\n",
       "      <th>p-unc</th>\n",
       "      <th>np2</th>\n",
       "    </tr>\n",
       "  </thead>\n",
       "  <tbody>\n",
       "    <tr>\n",
       "      <th>0</th>\n",
       "      <td>Blend</td>\n",
       "      <td>2.041667</td>\n",
       "      <td>1</td>\n",
       "      <td>2.041667</td>\n",
       "      <td>0.003768</td>\n",
       "      <td>0.951730</td>\n",
       "      <td>0.000209</td>\n",
       "    </tr>\n",
       "    <tr>\n",
       "      <th>1</th>\n",
       "      <td>Crop</td>\n",
       "      <td>2736.583333</td>\n",
       "      <td>2</td>\n",
       "      <td>1368.291667</td>\n",
       "      <td>2.525235</td>\n",
       "      <td>0.107978</td>\n",
       "      <td>0.219105</td>\n",
       "    </tr>\n",
       "    <tr>\n",
       "      <th>2</th>\n",
       "      <td>Blend * Crop</td>\n",
       "      <td>2360.083333</td>\n",
       "      <td>2</td>\n",
       "      <td>1180.041667</td>\n",
       "      <td>2.177813</td>\n",
       "      <td>0.142223</td>\n",
       "      <td>0.194834</td>\n",
       "    </tr>\n",
       "    <tr>\n",
       "      <th>3</th>\n",
       "      <td>Residual</td>\n",
       "      <td>9753.250000</td>\n",
       "      <td>18</td>\n",
       "      <td>541.847222</td>\n",
       "      <td>NaN</td>\n",
       "      <td>NaN</td>\n",
       "      <td>NaN</td>\n",
       "    </tr>\n",
       "  </tbody>\n",
       "</table>\n",
       "</div>"
      ],
      "text/plain": [
       "         Source           SS  DF           MS         F     p-unc       np2\n",
       "0         Blend     2.041667   1     2.041667  0.003768  0.951730  0.000209\n",
       "1          Crop  2736.583333   2  1368.291667  2.525235  0.107978  0.219105\n",
       "2  Blend * Crop  2360.083333   2  1180.041667  2.177813  0.142223  0.194834\n",
       "3      Residual  9753.250000  18   541.847222       NaN       NaN       NaN"
      ]
     },
     "execution_count": 8,
     "metadata": {},
     "output_type": "execute_result"
    }
   ],
   "source": [
    "pg.anova(dv='Yield', between=['Blend', 'Crop'], data=df1)"
   ]
  },
  {
   "cell_type": "markdown",
   "metadata": {},
   "source": [
    "\n",
    "### 3. 重复测量方差分析（Repeated Measures ANOVA）\n",
    "\n",
    "**目的和用处：**\n",
    "- **目的：** 比较同一组个体在不同时间点、不同处理条件或不同测量条件下的观测变量是否有显著变化。\n",
    "- **用处：** 用于分析重复测量设计下的变化趋势或处理效应，例如在治疗前后观察患者的生理指标变化。\n",
    "\n",
    "**模型假设：**\n",
    "- **相关性假设：** 同一组个体在不同时间点或条件下的观测值是相关的。\n",
    "- **正态性假设：** 每个时间点或条件下的观测值来自于正态分布。\n",
    "- **同质性假设：** 不同时间点或条件下的观测值具有相等的协方差。\n"
   ]
  },
  {
   "cell_type": "code",
   "execution_count": 9,
   "metadata": {},
   "outputs": [
    {
     "name": "stdout",
     "output_type": "stream",
     "text": [
      "   Time         W      pval  normal\n",
      "0  Post  0.940728  0.095158    True\n",
      "1   Pre  0.967718  0.478771    True\n",
      "(True, nan, nan, 1, 1.0)\n"
     ]
    }
   ],
   "source": [
    "# 各组正态性检验\n",
    "print(df2.groupby('Time')['Performance'].apply(pg.normality).reset_index().drop('level_1', axis=1))\n",
    "\n",
    "# 进行Mauchly's Test来检验同质性假设\n",
    "print(pg.sphericity(data=df2, dv='Performance', subject='Metric', within='Time'))"
   ]
  },
  {
   "cell_type": "code",
   "execution_count": 10,
   "metadata": {},
   "outputs": [
    {
     "data": {
      "text/html": [
       "<div>\n",
       "<style scoped>\n",
       "    .dataframe tbody tr th:only-of-type {\n",
       "        vertical-align: middle;\n",
       "    }\n",
       "\n",
       "    .dataframe tbody tr th {\n",
       "        vertical-align: top;\n",
       "    }\n",
       "\n",
       "    .dataframe thead th {\n",
       "        text-align: right;\n",
       "    }\n",
       "</style>\n",
       "<table border=\"1\" class=\"dataframe\">\n",
       "  <thead>\n",
       "    <tr style=\"text-align: right;\">\n",
       "      <th></th>\n",
       "      <th>Source</th>\n",
       "      <th>SS</th>\n",
       "      <th>DF</th>\n",
       "      <th>MS</th>\n",
       "      <th>F</th>\n",
       "      <th>p-unc</th>\n",
       "      <th>ng2</th>\n",
       "      <th>eps</th>\n",
       "    </tr>\n",
       "  </thead>\n",
       "  <tbody>\n",
       "    <tr>\n",
       "      <th>0</th>\n",
       "      <td>Time</td>\n",
       "      <td>82.881667</td>\n",
       "      <td>1</td>\n",
       "      <td>82.881667</td>\n",
       "      <td>7.385861</td>\n",
       "      <td>0.112919</td>\n",
       "      <td>0.342701</td>\n",
       "      <td>1.0</td>\n",
       "    </tr>\n",
       "    <tr>\n",
       "      <th>1</th>\n",
       "      <td>Error</td>\n",
       "      <td>22.443333</td>\n",
       "      <td>2</td>\n",
       "      <td>11.221667</td>\n",
       "      <td>NaN</td>\n",
       "      <td>NaN</td>\n",
       "      <td>NaN</td>\n",
       "      <td>NaN</td>\n",
       "    </tr>\n",
       "  </tbody>\n",
       "</table>\n",
       "</div>"
      ],
      "text/plain": [
       "  Source         SS  DF         MS         F     p-unc       ng2  eps\n",
       "0   Time  82.881667   1  82.881667  7.385861  0.112919  0.342701  1.0\n",
       "1  Error  22.443333   2  11.221667       NaN       NaN       NaN  NaN"
      ]
     },
     "execution_count": 10,
     "metadata": {},
     "output_type": "execute_result"
    }
   ],
   "source": [
    "pg.rm_anova(dv='Performance', \n",
    "        within='Time', \n",
    "        subject='Metric', \n",
    "        data=df2,\n",
    "        detailed=True\n",
    "        )"
   ]
  },
  {
   "cell_type": "markdown",
   "metadata": {},
   "source": [
    "\n",
    "### 4. Kruskal-Wallis 检验（方差分析非参数检验）\n",
    "\n",
    "- **目的和用处：**\n",
    "  - **目的：** 比较多个独立组别（或条件）的中位数是否有显著差异。\n",
    "  - **用处：** 适用于数据不满足正态分布或方差齐性假设的情况。\n",
    "\n",
    "- **模型假设：**\n",
    "  - **独立性假设：** 不同组别的样本相互独立。\n",
    "  - **同质性假设：** 不同组别的样本来自相同的总体分布。\n"
   ]
  },
  {
   "cell_type": "code",
   "execution_count": 11,
   "metadata": {},
   "outputs": [
    {
     "data": {
      "text/html": [
       "<div>\n",
       "<style scoped>\n",
       "    .dataframe tbody tr th:only-of-type {\n",
       "        vertical-align: middle;\n",
       "    }\n",
       "\n",
       "    .dataframe tbody tr th {\n",
       "        vertical-align: top;\n",
       "    }\n",
       "\n",
       "    .dataframe thead th {\n",
       "        text-align: right;\n",
       "    }\n",
       "</style>\n",
       "<table border=\"1\" class=\"dataframe\">\n",
       "  <thead>\n",
       "    <tr style=\"text-align: right;\">\n",
       "      <th></th>\n",
       "      <th>Source</th>\n",
       "      <th>ddof1</th>\n",
       "      <th>H</th>\n",
       "      <th>p-unc</th>\n",
       "    </tr>\n",
       "  </thead>\n",
       "  <tbody>\n",
       "    <tr>\n",
       "      <th>Kruskal</th>\n",
       "      <td>Crop</td>\n",
       "      <td>2</td>\n",
       "      <td>4.50767</td>\n",
       "      <td>0.104996</td>\n",
       "    </tr>\n",
       "  </tbody>\n",
       "</table>\n",
       "</div>"
      ],
      "text/plain": [
       "        Source  ddof1        H     p-unc\n",
       "Kruskal   Crop      2  4.50767  0.104996"
      ]
     },
     "execution_count": 11,
     "metadata": {},
     "output_type": "execute_result"
    }
   ],
   "source": [
    "# Kruskal-Wallis检验\n",
    "pg.kruskal(dv='Yield', between='Crop', data=df1)"
   ]
  },
  {
   "cell_type": "markdown",
   "metadata": {},
   "source": [
    "\n",
    "### 5. Friedman 检验（重复测量方差分析非参数检验）\n",
    "\n",
    "- **目的和用处：**\n",
    "  - **目的：** 比较同一组体系中的多个条件或时间点下的中位数是否存在显著差异。\n",
    "  - **用处：** 适用于重复测量设计数据不满足正态分布假设的情况。\n",
    "\n",
    "- **模型假设：**\n",
    "  - **相关性假设：** 同一组体系中的观测值是相关的。\n",
    "  - **同质性假设：** 不同条件或时间点下的观测值来自同一总体分布。\n",
    "\n"
   ]
  },
  {
   "cell_type": "code",
   "execution_count": 12,
   "metadata": {},
   "outputs": [
    {
     "data": {
      "text/html": [
       "<div>\n",
       "<style scoped>\n",
       "    .dataframe tbody tr th:only-of-type {\n",
       "        vertical-align: middle;\n",
       "    }\n",
       "\n",
       "    .dataframe tbody tr th {\n",
       "        vertical-align: top;\n",
       "    }\n",
       "\n",
       "    .dataframe thead th {\n",
       "        text-align: right;\n",
       "    }\n",
       "</style>\n",
       "<table border=\"1\" class=\"dataframe\">\n",
       "  <thead>\n",
       "    <tr style=\"text-align: right;\">\n",
       "      <th></th>\n",
       "      <th>Source</th>\n",
       "      <th>W</th>\n",
       "      <th>ddof1</th>\n",
       "      <th>Q</th>\n",
       "      <th>p-unc</th>\n",
       "    </tr>\n",
       "  </thead>\n",
       "  <tbody>\n",
       "    <tr>\n",
       "      <th>Friedman</th>\n",
       "      <td>Time</td>\n",
       "      <td>1.0</td>\n",
       "      <td>1</td>\n",
       "      <td>3.0</td>\n",
       "      <td>0.083265</td>\n",
       "    </tr>\n",
       "  </tbody>\n",
       "</table>\n",
       "</div>"
      ],
      "text/plain": [
       "         Source    W  ddof1    Q     p-unc\n",
       "Friedman   Time  1.0      1  3.0  0.083265"
      ]
     },
     "execution_count": 12,
     "metadata": {},
     "output_type": "execute_result"
    }
   ],
   "source": [
    "pg.friedman(dv='Performance', \n",
    "        within='Time', \n",
    "        subject='Metric', \n",
    "        data=df2,\n",
    "        )"
   ]
  }
 ],
 "metadata": {
  "kernelspec": {
   "display_name": "py_ds",
   "language": "python",
   "name": "python3"
  },
  "language_info": {
   "codemirror_mode": {
    "name": "ipython",
    "version": 3
   },
   "file_extension": ".py",
   "mimetype": "text/x-python",
   "name": "python",
   "nbconvert_exporter": "python",
   "pygments_lexer": "ipython3",
   "version": "3.11.7"
  }
 },
 "nbformat": 4,
 "nbformat_minor": 2
}
