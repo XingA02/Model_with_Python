{
 "cells": [
  {
   "cell_type": "markdown",
   "metadata": {},
   "source": [
    "# ***现代优化算法***\n",
    "\n",
    "现代优化算法专用库：`scikit-opt`\n",
    "\n",
    "https://scikit-opt.github.io/scikit-opt/#/zh/README"
   ]
  },
  {
   "cell_type": "markdown",
   "metadata": {},
   "source": [
    "**目标**：最小化 $(x_0 - 1)^2 + (x_1 - 2)^2$\n",
    "\n",
    "**约束条件**：\n",
    "  - $x_0 + x_1 - 3 \\leq 0$\n",
    "  - $x_0 - x_1 - 1 \\leq 0$\n",
    "  - $-10 \\leq x_0 \\leq 10$\n",
    "  - $-10 \\leq x_1 \\leq 10$\n"
   ]
  },
  {
   "cell_type": "markdown",
   "metadata": {},
   "source": [
    "## **遗传算法**"
   ]
  },
  {
   "cell_type": "code",
   "execution_count": 5,
   "metadata": {},
   "outputs": [
    {
     "name": "stdout",
     "output_type": "stream",
     "text": [
      "最优解： [0.99996653 1.99912955]\n",
      "最优值： [7.58805882e-07]\n"
     ]
    }
   ],
   "source": [
    "import sko\n",
    "\n",
    "def constraint_penalty(x):  # 惩罚机制：用来加约束条件的\n",
    "    penalty = 0\n",
    "\n",
    "    g1 = x[0] + x[1] - 3\n",
    "    g2 = x[0] - x[1] - 1\n",
    "\n",
    "    if g1 > 0:\n",
    "        penalty += g1 ** 2\n",
    "    if g2 > 0:\n",
    "        penalty += g2 ** 2\n",
    "\n",
    "    return penalty\n",
    "\n",
    "# 定义带惩罚机制的目标函数\n",
    "def objective_function_with_penalty(x):  \n",
    "    # 不要动\n",
    "    delta = 1e6 * constraint_penalty(x)\n",
    "    # 返回值\n",
    "    return (x[0] - 1) ** 2 + (x[1] - 2) ** 2 + delta\n",
    "\n",
    "# 建立求解器\n",
    "model = sko.GA.GA(\n",
    "            func=objective_function_with_penalty, \n",
    "            n_dim=2, size_pop=50, max_iter=200, \n",
    "            lb=[-10, -10], ub=[10, 10]\n",
    "            )\n",
    "\n",
    "best_x, best_y = model.run()\n",
    "\n",
    "print('最优解：', best_x)\n",
    "print('最优值：', best_y)"
   ]
  },
  {
   "cell_type": "markdown",
   "metadata": {},
   "source": [
    "## **模拟退火**"
   ]
  },
  {
   "cell_type": "code",
   "execution_count": 6,
   "metadata": {},
   "outputs": [
    {
     "name": "stdout",
     "output_type": "stream",
     "text": [
      "最优解： [0.99999876 2.00000026]\n",
      "最优值： 1.6077249160598594e-12\n"
     ]
    }
   ],
   "source": [
    "from scipy.optimize import dual_annealing\n",
    "\n",
    "\n",
    "def constraint_penalty(x):  # 惩罚机制\n",
    "    penalty = 0\n",
    "\n",
    "    g1 = x[0] + x[1] - 3\n",
    "    g2 = x[0] - x[1] - 1\n",
    "\n",
    "    if g1 > 0:\n",
    "        penalty += g1 ** 2\n",
    "    if g2 > 0:\n",
    "        penalty += g2 ** 2\n",
    "\n",
    "    return penalty\n",
    "\n",
    "# 定义带有惩罚机制的目标函数\n",
    "def objective_function_with_penalty(x):\n",
    "    return (x[0] - 1) ** 2 + (x[1] - 2) ** 2 + 1e6 * constraint_penalty(x)\n",
    "\n",
    "# 使用模拟退火算法进行优化模型的求解\n",
    "res = dual_annealing(objective_function_with_penalty, \n",
    "                    bounds=[(-10, 10), (-10, 10)], \n",
    "                    maxiter=100)\n",
    "\n",
    "print('最优解：', res.x)\n",
    "print('最优值：', res.fun)"
   ]
  }
 ],
 "metadata": {
  "kernelspec": {
   "display_name": "py_ds",
   "language": "python",
   "name": "python3"
  },
  "language_info": {
   "codemirror_mode": {
    "name": "ipython",
    "version": 3
   },
   "file_extension": ".py",
   "mimetype": "text/x-python",
   "name": "python",
   "nbconvert_exporter": "python",
   "pygments_lexer": "ipython3",
   "version": "3.11.7"
  }
 },
 "nbformat": 4,
 "nbformat_minor": 2
}
