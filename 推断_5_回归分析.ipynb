{
 "cells": [
  {
   "cell_type": "code",
   "execution_count": 1,
   "metadata": {},
   "outputs": [],
   "source": [
    "import pandas as pd\n",
    "import statsmodels.api as sm\n",
    "\n",
    "df1 = pd.read_excel(\"data\\\\boston_house_prices.xlsx\")\n",
    "df2 = pd.read_excel(\"data\\\\iris.xlsx\")"
   ]
  },
  {
   "cell_type": "code",
   "execution_count": 2,
   "metadata": {},
   "outputs": [
    {
     "data": {
      "text/html": [
       "<div>\n",
       "<style scoped>\n",
       "    .dataframe tbody tr th:only-of-type {\n",
       "        vertical-align: middle;\n",
       "    }\n",
       "\n",
       "    .dataframe tbody tr th {\n",
       "        vertical-align: top;\n",
       "    }\n",
       "\n",
       "    .dataframe thead th {\n",
       "        text-align: right;\n",
       "    }\n",
       "</style>\n",
       "<table border=\"1\" class=\"dataframe\">\n",
       "  <thead>\n",
       "    <tr style=\"text-align: right;\">\n",
       "      <th></th>\n",
       "      <th>CRIM</th>\n",
       "      <th>ZN</th>\n",
       "      <th>INDUS</th>\n",
       "      <th>CHAS</th>\n",
       "      <th>NOX</th>\n",
       "      <th>RM</th>\n",
       "      <th>AGE</th>\n",
       "      <th>MEDV</th>\n",
       "    </tr>\n",
       "  </thead>\n",
       "  <tbody>\n",
       "    <tr>\n",
       "      <th>0</th>\n",
       "      <td>0.00632</td>\n",
       "      <td>18.0</td>\n",
       "      <td>2.31</td>\n",
       "      <td>0</td>\n",
       "      <td>0.538</td>\n",
       "      <td>6.575</td>\n",
       "      <td>65.2</td>\n",
       "      <td>24.0</td>\n",
       "    </tr>\n",
       "    <tr>\n",
       "      <th>1</th>\n",
       "      <td>0.02731</td>\n",
       "      <td>0.0</td>\n",
       "      <td>7.07</td>\n",
       "      <td>0</td>\n",
       "      <td>0.469</td>\n",
       "      <td>6.421</td>\n",
       "      <td>78.9</td>\n",
       "      <td>21.6</td>\n",
       "    </tr>\n",
       "    <tr>\n",
       "      <th>2</th>\n",
       "      <td>0.02729</td>\n",
       "      <td>0.0</td>\n",
       "      <td>7.07</td>\n",
       "      <td>0</td>\n",
       "      <td>0.469</td>\n",
       "      <td>7.185</td>\n",
       "      <td>61.1</td>\n",
       "      <td>34.7</td>\n",
       "    </tr>\n",
       "    <tr>\n",
       "      <th>3</th>\n",
       "      <td>0.03237</td>\n",
       "      <td>0.0</td>\n",
       "      <td>2.18</td>\n",
       "      <td>0</td>\n",
       "      <td>0.458</td>\n",
       "      <td>6.998</td>\n",
       "      <td>45.8</td>\n",
       "      <td>33.4</td>\n",
       "    </tr>\n",
       "    <tr>\n",
       "      <th>4</th>\n",
       "      <td>0.06905</td>\n",
       "      <td>0.0</td>\n",
       "      <td>2.18</td>\n",
       "      <td>0</td>\n",
       "      <td>0.458</td>\n",
       "      <td>7.147</td>\n",
       "      <td>54.2</td>\n",
       "      <td>36.2</td>\n",
       "    </tr>\n",
       "  </tbody>\n",
       "</table>\n",
       "</div>"
      ],
      "text/plain": [
       "      CRIM    ZN  INDUS  CHAS    NOX     RM   AGE  MEDV\n",
       "0  0.00632  18.0   2.31     0  0.538  6.575  65.2  24.0\n",
       "1  0.02731   0.0   7.07     0  0.469  6.421  78.9  21.6\n",
       "2  0.02729   0.0   7.07     0  0.469  7.185  61.1  34.7\n",
       "3  0.03237   0.0   2.18     0  0.458  6.998  45.8  33.4\n",
       "4  0.06905   0.0   2.18     0  0.458  7.147  54.2  36.2"
      ]
     },
     "execution_count": 2,
     "metadata": {},
     "output_type": "execute_result"
    }
   ],
   "source": [
    "df1 = df1[['CRIM', 'ZN', 'INDUS', 'CHAS', 'NOX', 'RM', 'AGE', 'MEDV']]\n",
    "df1.head()"
   ]
  },
  {
   "cell_type": "code",
   "execution_count": 3,
   "metadata": {},
   "outputs": [],
   "source": [
    "X1 = sm.add_constant(df1.drop(\"MEDV\", axis=1))\n",
    "X2 = df2.drop(\"class\", axis=1)\n",
    "y1 = df1[\"MEDV\"]\n",
    "y2 = df2[\"class\"].map({\"setosa\": 1, \"versicolor\": 2, \"virginica\": 3})\n"
   ]
  },
  {
   "cell_type": "code",
   "execution_count": 4,
   "metadata": {},
   "outputs": [
    {
     "name": "stdout",
     "output_type": "stream",
     "text": [
      "Warning: Maximum number of iterations has been exceeded.\n",
      "         Current function value: 0.072266\n",
      "         Iterations: 35\n"
     ]
    },
    {
     "name": "stderr",
     "output_type": "stream",
     "text": [
      "d:\\Coding\\python\\envs\\py_ds\\Lib\\site-packages\\statsmodels\\base\\model.py:607: ConvergenceWarning: Maximum Likelihood optimization failed to converge. Check mle_retvals\n",
      "  warnings.warn(\"Maximum Likelihood optimization failed to \"\n"
     ]
    }
   ],
   "source": [
    "# 线性回归\n",
    "model1 = sm.OLS(y1, X1).fit()\n",
    "# 多元逻辑回归：二元逻辑回归使用Logit\n",
    "model2 = sm.MNLogit(y2, X2).fit()"
   ]
  },
  {
   "cell_type": "code",
   "execution_count": 5,
   "metadata": {},
   "outputs": [
    {
     "name": "stdout",
     "output_type": "stream",
     "text": [
      "                            OLS Regression Results                            \n",
      "==============================================================================\n",
      "Dep. Variable:                   MEDV   R-squared:                       0.589\n",
      "Model:                            OLS   Adj. R-squared:                  0.584\n",
      "Method:                 Least Squares   F-statistic:                     102.2\n",
      "Date:                Sat, 27 Jul 2024   Prob (F-statistic):           4.20e-92\n",
      "Time:                        20:47:26   Log-Likelihood:                -1615.0\n",
      "No. Observations:                 506   AIC:                             3246.\n",
      "Df Residuals:                     498   BIC:                             3280.\n",
      "Df Model:                           7                                         \n",
      "Covariance Type:            nonrobust                                         \n",
      "==============================================================================\n",
      "                 coef    std err          t      P>|t|      [0.025      0.975]\n",
      "------------------------------------------------------------------------------\n",
      "const        -18.2649      3.215     -5.682      0.000     -24.581     -11.949\n",
      "CRIM          -0.1728      0.035     -4.988      0.000      -0.241      -0.105\n",
      "ZN             0.0142      0.015      0.979      0.328      -0.014       0.043\n",
      "INDUS         -0.1309      0.064     -2.035      0.042      -0.257      -0.005\n",
      "CHAS           4.8407      1.058      4.575      0.000       2.762       6.919\n",
      "NOX           -4.3574      4.089     -1.066      0.287     -12.391       3.676\n",
      "RM             7.3864      0.417     17.693      0.000       6.566       8.207\n",
      "AGE           -0.0236      0.015     -1.601      0.110      -0.053       0.005\n",
      "==============================================================================\n",
      "Omnibus:                      228.579   Durbin-Watson:                   0.839\n",
      "Prob(Omnibus):                  0.000   Jarque-Bera (JB):             1707.080\n",
      "Skew:                           1.809   Prob(JB):                         0.00\n",
      "Kurtosis:                      11.239   Cond. No.                     1.29e+03\n",
      "==============================================================================\n",
      "\n",
      "Notes:\n",
      "[1] Standard Errors assume that the covariance matrix of the errors is correctly specified.\n",
      "[2] The condition number is large, 1.29e+03. This might indicate that there are\n",
      "strong multicollinearity or other numerical problems.\n"
     ]
    }
   ],
   "source": [
    "print(model1.summary())"
   ]
  },
  {
   "cell_type": "code",
   "execution_count": 6,
   "metadata": {},
   "outputs": [
    {
     "data": {
      "text/html": [
       "<div>\n",
       "<style scoped>\n",
       "    .dataframe tbody tr th:only-of-type {\n",
       "        vertical-align: middle;\n",
       "    }\n",
       "\n",
       "    .dataframe tbody tr th {\n",
       "        vertical-align: top;\n",
       "    }\n",
       "\n",
       "    .dataframe thead th {\n",
       "        text-align: right;\n",
       "    }\n",
       "</style>\n",
       "<table border=\"1\" class=\"dataframe\">\n",
       "  <thead>\n",
       "    <tr style=\"text-align: right;\">\n",
       "      <th></th>\n",
       "      <th>const</th>\n",
       "      <th>CRIM</th>\n",
       "      <th>ZN</th>\n",
       "      <th>INDUS</th>\n",
       "      <th>CHAS</th>\n",
       "      <th>NOX</th>\n",
       "      <th>RM</th>\n",
       "      <th>AGE</th>\n",
       "    </tr>\n",
       "  </thead>\n",
       "  <tbody>\n",
       "    <tr>\n",
       "      <th>0</th>\n",
       "      <td>-18.264926</td>\n",
       "      <td>-0.172761</td>\n",
       "      <td>0.014214</td>\n",
       "      <td>-0.130899</td>\n",
       "      <td>4.84073</td>\n",
       "      <td>-4.357411</td>\n",
       "      <td>7.386357</td>\n",
       "      <td>-0.023625</td>\n",
       "    </tr>\n",
       "  </tbody>\n",
       "</table>\n",
       "</div>"
      ],
      "text/plain": [
       "       const      CRIM        ZN     INDUS     CHAS       NOX        RM  \\\n",
       "0 -18.264926 -0.172761  0.014214 -0.130899  4.84073 -4.357411  7.386357   \n",
       "\n",
       "        AGE  \n",
       "0 -0.023625  "
      ]
     },
     "execution_count": 6,
     "metadata": {},
     "output_type": "execute_result"
    }
   ],
   "source": [
    "pd.DataFrame(model1.params).T"
   ]
  },
  {
   "cell_type": "code",
   "execution_count": 7,
   "metadata": {},
   "outputs": [
    {
     "name": "stdout",
     "output_type": "stream",
     "text": [
      "                          MNLogit Regression Results                          \n",
      "==============================================================================\n",
      "Dep. Variable:                  class   No. Observations:                  150\n",
      "Model:                        MNLogit   Df Residuals:                      142\n",
      "Method:                           MLE   Df Model:                            6\n",
      "Date:                Sat, 27 Jul 2024   Pseudo R-squ.:                  0.9342\n",
      "Time:                        20:47:26   Log-Likelihood:                -10.840\n",
      "converged:                      False   LL-Null:                       -164.79\n",
      "Covariance Type:            nonrobust   LLR p-value:                 1.655e-63\n",
      "==============================================================================\n",
      "   class=2       coef    std err          z      P>|z|      [0.025      0.975]\n",
      "------------------------------------------------------------------------------\n",
      "X1            -6.1550   1.48e+04     -0.000      1.000   -2.91e+04     2.9e+04\n",
      "X2            -8.1911   2.17e+04     -0.000      1.000   -4.26e+04    4.26e+04\n",
      "X3            17.2063   3.82e+04      0.000      1.000   -7.49e+04    7.49e+04\n",
      "X4            18.5152   7.76e+04      0.000      1.000   -1.52e+05    1.52e+05\n",
      "------------------------------------------------------------------------------\n",
      "   class=3       coef    std err          z      P>|z|      [0.025      0.975]\n",
      "------------------------------------------------------------------------------\n",
      "X1           -12.4827   1.48e+04     -0.001      0.999   -2.91e+04     2.9e+04\n",
      "X2           -14.8093   2.17e+04     -0.001      0.999   -4.26e+04    4.26e+04\n",
      "X3            25.6401   3.82e+04      0.001      0.999   -7.48e+04    7.49e+04\n",
      "X4            28.7978   7.76e+04      0.000      1.000   -1.52e+05    1.52e+05\n",
      "==============================================================================\n"
     ]
    }
   ],
   "source": [
    "print(model2.summary())"
   ]
  },
  {
   "cell_type": "code",
   "execution_count": 8,
   "metadata": {},
   "outputs": [
    {
     "data": {
      "text/html": [
       "<div>\n",
       "<style scoped>\n",
       "    .dataframe tbody tr th:only-of-type {\n",
       "        vertical-align: middle;\n",
       "    }\n",
       "\n",
       "    .dataframe tbody tr th {\n",
       "        vertical-align: top;\n",
       "    }\n",
       "\n",
       "    .dataframe thead th {\n",
       "        text-align: right;\n",
       "    }\n",
       "</style>\n",
       "<table border=\"1\" class=\"dataframe\">\n",
       "  <thead>\n",
       "    <tr style=\"text-align: right;\">\n",
       "      <th></th>\n",
       "      <th>X1</th>\n",
       "      <th>X2</th>\n",
       "      <th>X3</th>\n",
       "      <th>X4</th>\n",
       "    </tr>\n",
       "  </thead>\n",
       "  <tbody>\n",
       "    <tr>\n",
       "      <th>0</th>\n",
       "      <td>-6.154985</td>\n",
       "      <td>-8.191119</td>\n",
       "      <td>17.206265</td>\n",
       "      <td>18.515247</td>\n",
       "    </tr>\n",
       "    <tr>\n",
       "      <th>1</th>\n",
       "      <td>-12.482704</td>\n",
       "      <td>-14.809305</td>\n",
       "      <td>25.640066</td>\n",
       "      <td>28.797791</td>\n",
       "    </tr>\n",
       "  </tbody>\n",
       "</table>\n",
       "</div>"
      ],
      "text/plain": [
       "          X1         X2         X3         X4\n",
       "0  -6.154985  -8.191119  17.206265  18.515247\n",
       "1 -12.482704 -14.809305  25.640066  28.797791"
      ]
     },
     "execution_count": 8,
     "metadata": {},
     "output_type": "execute_result"
    }
   ],
   "source": [
    "pd.DataFrame(model2.params).T"
   ]
  }
 ],
 "metadata": {
  "kernelspec": {
   "display_name": "py_ds",
   "language": "python",
   "name": "python3"
  },
  "language_info": {
   "codemirror_mode": {
    "name": "ipython",
    "version": 3
   },
   "file_extension": ".py",
   "mimetype": "text/x-python",
   "name": "python",
   "nbconvert_exporter": "python",
   "pygments_lexer": "ipython3",
   "version": "3.11.7"
  }
 },
 "nbformat": 4,
 "nbformat_minor": 2
}
