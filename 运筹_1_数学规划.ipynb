{
 "cells": [
  {
   "cell_type": "markdown",
   "metadata": {},
   "source": [
    "# 优化问题初步\n",
    "\n",
    "优化问题的模型由两个部分组成，一个是目标函数，一个是约束条件。建模手的任务就是从赛题抽象出目标函数和约束条件，编程手的任务就是把建模手建立的优化模型求解出来。"
   ]
  },
  {
   "cell_type": "markdown",
   "metadata": {},
   "source": [
    "\n",
    "\n",
    "## ***第一部分：三种数学规划模型（全是全局最优）***\n",
    "\n"
   ]
  },
  {
   "cell_type": "markdown",
   "metadata": {},
   "source": [
    "<br><br>\n",
    "\n",
    "### **1. 线性规划**\n",
    "\n",
    "<br><br>\n"
   ]
  },
  {
   "cell_type": "markdown",
   "metadata": {},
   "source": [
    "**目标**：最大化$$3x + 2y$$\n",
    "\n",
    "**约束条件**\n",
    "\n",
    "\n",
    "- $2x + y \\leq 20$\n",
    "- $4x - 5y \\geq -10$\n",
    "- $x + 2y = 15$\n",
    "- $0 \\leq x \\leq 5$\n",
    "- $0 \\leq y \\leq 5$\n"
   ]
  },
  {
   "cell_type": "code",
   "execution_count": 6,
   "metadata": {},
   "outputs": [
    {
     "name": "stdout",
     "output_type": "stream",
     "text": [
      "The optimal value is:  25.0\n",
      "The optimal solution is:\n",
      "x = 5.0\n",
      "y = 5.0\n"
     ]
    }
   ],
   "source": [
    "# pulp：一个专门用来实现线性规划、整数规划模型求解的库\n",
    "import pulp\n",
    "\n",
    "# 定义问题类型为最大化问题\n",
    "lp_problem = pulp.LpProblem(name=\"lp_problem\", \n",
    "                            sense=pulp.LpMaximize,  # 若模型要求求最小值，则使用pulp.LpMinimize\n",
    "                            )  \n",
    "\n",
    "# 定义变量，并设置取值范围\n",
    "x = pulp.LpVariable(\"x\", lowBound=0, upBound=5)  # 定义变量x，取值范围为[0,5]\n",
    "y = pulp.LpVariable(\"y\", lowBound=0, upBound=5)  # 定义变量y，取值范围为[0,5]\n",
    "# z = \n",
    "# w = \n",
    "\n",
    "# 定义目标函数\n",
    "lp_problem += 3 * x + 2 * y, \"Objective Function\"\n",
    "\n",
    "# 定义不等约束条件\n",
    "lp_problem += 2 * x + y <= 20, \"Constraint 1\"\n",
    "lp_problem += 4 * x - 5 * y >= -10, \"Constraint 2\"\n",
    "\n",
    "# 定义等式约束条件\n",
    "lp_problem += x + 2*y == 15, \"Constraint 3\"\n",
    "\n",
    "# 求解线性规划模型，调用pulp库中的求解函数\n",
    "lp_problem.solve()  \n",
    "\n",
    "# 输出最优解\n",
    "print(\"The optimal value is: \", pulp.value(lp_problem.objective))\n",
    "print(\"The optimal solution is:\")\n",
    "for variable in lp_problem.variables():\n",
    "    print(variable.name, \"=\", variable.varValue)"
   ]
  },
  {
   "cell_type": "markdown",
   "metadata": {},
   "source": [
    "<br><br>\n",
    "\n",
    "### **2. 整数规划**\n",
    "\n",
    "<br><br>\n",
    "\n"
   ]
  },
  {
   "cell_type": "markdown",
   "metadata": {},
   "source": [
    "\n",
    "\n",
    "\n",
    "**目标：最大化**  \n",
    "\n",
    "$$z = 2x + 3y$$\n",
    "\n",
    "**约束条件：**  \n",
    "\n",
    "\\begin{cases}\n",
    "x + 2y \\leq 8 \\\\\n",
    "2x + y \\leq 7 \\\\\n",
    "x - y = 1 \\\\\n",
    "x \\geq 0 \\\\\n",
    "y \\geq 0 \\\\\n",
    "x, y \\text{ 为整数}\n",
    "\\end{cases}\n",
    "\n",
    "\n"
   ]
  },
  {
   "cell_type": "code",
   "execution_count": 7,
   "metadata": {},
   "outputs": [
    {
     "name": "stdout",
     "output_type": "stream",
     "text": [
      "x = 2.0, y = 1.0, 最大值 = 7.0\n"
     ]
    }
   ],
   "source": [
    "import pulp\n",
    "\n",
    "# 创建一个问题实例\n",
    "prob = pulp.LpProblem(\"Maximize_2x_3y\", pulp.LpMaximize)\n",
    "\n",
    "# 定义变量，并设置为整数\n",
    "x = pulp.LpVariable('x', lowBound=0, cat='Integer')\n",
    "y = pulp.LpVariable('y', lowBound=0, cat='Integer')\n",
    "\n",
    "# 定义目标函数\n",
    "prob += 2 * x + 3 * y, \"Objective Function\"\n",
    "\n",
    "# 定义约束条件\n",
    "prob += x + 2*y <= 8, \"Constraint 1\"\n",
    "prob += 2*x + y <= 7, \"Constraint 2\"\n",
    "prob += x - y == 1, \"Constraint 3\"\n",
    "\n",
    "# 求解问题\n",
    "prob.solve()\n",
    "\n",
    "# 获取结果\n",
    "x_value = pulp.value(x)\n",
    "y_value = pulp.value(y)\n",
    "objective_value = pulp.value(prob.objective)\n",
    "\n",
    "print(f\"x = {x_value}, y = {y_value}, 最大值 = {objective_value}\")"
   ]
  },
  {
   "cell_type": "markdown",
   "metadata": {},
   "source": [
    "<br><br>\n",
    "\n",
    "### **3. 混合型线性规划**\n",
    "\n",
    "<br><br>\n",
    "\n"
   ]
  },
  {
   "cell_type": "markdown",
   "metadata": {},
   "source": [
    "\n",
    "\n",
    "**问题描述：**\n",
    "\n",
    "**目标：最大化**  \n",
    "$$z = 3x + 2y + 4z $$\n",
    "\n",
    "**约束条件：**  \n",
    "\n",
    "\\begin{cases}\n",
    "2x + y + 3z \\leq 10 \\\\\n",
    "x + 2y + z \\leq 8 \\\\\n",
    "x - y + z = 3 \\\\\n",
    "x \\geq 0 \\\\\n",
    "y \\geq 0 \\\\\n",
    "z \\geq 0 \\\\\n",
    "x, y \\text{ 为整数}, z \\text{ 可为实数}\n",
    "\\end{cases}\n",
    "\n"
   ]
  },
  {
   "cell_type": "code",
   "execution_count": 8,
   "metadata": {},
   "outputs": [
    {
     "name": "stdout",
     "output_type": "stream",
     "text": [
      "x = 3.0, y = 1.0, z = 1.0, 最大值 = 15.0\n"
     ]
    }
   ],
   "source": [
    "import pulp\n",
    "\n",
    "# 创建一个问题实例\n",
    "prob = pulp.LpProblem(\"Maximize_3x_2y_4z\", pulp.LpMaximize)\n",
    "\n",
    "# 定义变量，其中 x 和 y 是整数，z 是连续变量\n",
    "x = pulp.LpVariable('x', lowBound=0, cat='Integer')\n",
    "y = pulp.LpVariable('y', lowBound=0, cat='Integer')\n",
    "z = pulp.LpVariable('z', lowBound=0, cat='Continuous')\n",
    "\n",
    "# 定义目标函数\n",
    "prob += 3*x + 2*y + 4*z\n",
    "\n",
    "# 定义约束条件\n",
    "prob += 2*x + y + 3*z <= 10\n",
    "prob += x + 2*y + z <= 8\n",
    "prob += x - y + z == 3\n",
    "\n",
    "# 求解问题\n",
    "prob.solve()\n",
    "\n",
    "# 获取结果\n",
    "x_value = pulp.value(x)\n",
    "y_value = pulp.value(y)\n",
    "z_value = pulp.value(z)\n",
    "objective_value = pulp.value(prob.objective)\n",
    "\n",
    "print(f\"x = {x_value}, y = {y_value}, z = {z_value}, 最大值 = {objective_value}\")"
   ]
  },
  {
   "cell_type": "markdown",
   "metadata": {},
   "source": [
    "<br><br><br>\n",
    "\n",
    "## ***第二部分：非线性规划模型（极大可能是局部最优）***\n",
    "\n",
    "当优化模型是凸优化的时候，可以使用梯度下降法求解全局最优。其余情况都是局部最优。\n",
    "\n",
    "<br><br><br>\n",
    "\n"
   ]
  },
  {
   "cell_type": "markdown",
   "metadata": {},
   "source": [
    "**目标**：最小化 $f(x_0, x_1) = 2x_0^2 + 5x_1^2$\n",
    "\n",
    "**约束条件**：\n",
    "- $x_0 - 2x_1 + 1 \\geq 0$  （不等式约束）\n",
    "- $x_0^2 + x_1 - 1 \\geq 0$  （不等式约束）\n",
    "- $x_0^2 + x_1 = 1$  （等式约束）\n",
    "- $x_0 + x_1 = 1$  （等式约束）\n"
   ]
  },
  {
   "cell_type": "code",
   "execution_count": 9,
   "metadata": {},
   "outputs": [
    {
     "name": "stdout",
     "output_type": "stream",
     "text": [
      "The optimal value is:  5.0\n",
      "The optimal solution is: [-2.22044575e-17  1.00000000e+00]\n"
     ]
    }
   ],
   "source": [
    "from scipy.optimize import minimize\n",
    "\n",
    "# 不等式约束：默认大于等于\n",
    "ineq_cons = [\n",
    "                {\n",
    "                'type': 'ineq', \n",
    "                'fun': lambda x: x[0] - 2 * x[1] + 1\n",
    "                },\n",
    "\n",
    "                {\n",
    "                'type': 'ineq', \n",
    "                'fun': lambda x: x[0] ** 2 + x[1] - 1\n",
    "                }\n",
    "        ]\n",
    "\n",
    "# 等式约束：默认等于0\n",
    "eq_cons = [\n",
    "                {\n",
    "                'type': 'eq', \n",
    "                'fun': lambda x: x[0] ** 2 + x[1] - 1\n",
    "                },\n",
    "\n",
    "                {\n",
    "                'type': 'eq', \n",
    "                'fun': lambda x: x[0] + x[1] - 1\n",
    "                }\n",
    "        ]\n",
    "\n",
    "# 约束组合\n",
    "constraints = ineq_cons + eq_cons\n",
    "\n",
    "# 进行求解\n",
    "res = minimize(\n",
    "        fun=lambda x: 2 * x[0] ** 2 + 5 * x[1] ** 2, \n",
    "        x0=[0, 0],  # 初始点的选择\n",
    "        constraints=constraints,\n",
    "        method='SLSQP'\n",
    "        )\n",
    "\n",
    "# 输出最优解\n",
    "print(\"The optimal value is: \", res.fun)\n",
    "print(\"The optimal solution is:\", res.x)"
   ]
  },
  {
   "cell_type": "markdown",
   "metadata": {},
   "source": [
    "<br><br><br>\n",
    "\n",
    "## ***第三部分：多目标规划模型***\n",
    "\n",
    "<br><br><br>"
   ]
  },
  {
   "cell_type": "markdown",
   "metadata": {},
   "source": [
    "**目标**：最小化 $f_1(x_0, x_1) = (x_0-2)^2$的同时最小化 $f_2(x_0, x_1) = (x_1+3)^2$\n",
    "\n",
    "**约束条件**：\n",
    "- $x_0 - 2x_1 + 1 \\geq 0$  （不等式约束）\n",
    "- $x_0^2 + x_1 - 1 \\geq 0$  （不等式约束）\n",
    "- $x_0^2 + x_1 = 1$  （等式约束）\n",
    "- $x_0 + x_1 = 1$  （等式约束）\n"
   ]
  },
  {
   "cell_type": "code",
   "execution_count": 10,
   "metadata": {},
   "outputs": [
    {
     "name": "stdout",
     "output_type": "stream",
     "text": [
      "最优解： [3.3087225e-24 1.0000000e+00]\n",
      "最优值： 10.0\n"
     ]
    }
   ],
   "source": [
    "from scipy.optimize import minimize\n",
    "\n",
    "# 函数1\n",
    "def f1(x):\n",
    "    return (x[0] - 2) ** 2\n",
    "\n",
    "# 函数2\n",
    "def f2(x):\n",
    "    return (x[1] + 3) ** 2\n",
    "\n",
    "# 综合目标函数\n",
    "def objective_function(x, w1=0.5, w2=0.5):\n",
    "    return w1 * f1(x) + w2 * f2(x)\n",
    "\n",
    "# 不等式约束\n",
    "ineq_cons = [{'type': 'ineq', 'fun': lambda x: x[0] - 2*x[1] + 1},\n",
    "              {'type': 'ineq', 'fun': lambda x: x[0]**2 + x[1] - 1},\n",
    "              ]\n",
    "\n",
    "# 等式约束\n",
    "eq_cons = [{'type': 'eq', 'fun': lambda x: x[0]**2 + x[1] - 1},\n",
    "             {'type': 'eq', 'fun': lambda x: x[0] + x[1] - 1},\n",
    "              ]\n",
    "\n",
    "# 组合约束\n",
    "constraints = ineq_cons + eq_cons\n",
    "\n",
    "\n",
    "\n",
    "res = minimize(\n",
    "            fun=objective_function, \n",
    "            x0=[0, 0], \n",
    "            args=(0.5, 0.5),\n",
    "            constraints=constraints,\n",
    "            method='SLSQP'\n",
    "            )\n",
    "\n",
    "print('最优解：', res.x)\n",
    "print('最优值：', res.fun)"
   ]
  }
 ],
 "metadata": {
  "kernelspec": {
   "display_name": "py_ds",
   "language": "python",
   "name": "python3"
  },
  "language_info": {
   "codemirror_mode": {
    "name": "ipython",
    "version": 3
   },
   "file_extension": ".py",
   "mimetype": "text/x-python",
   "name": "python",
   "nbconvert_exporter": "python",
   "pygments_lexer": "ipython3",
   "version": "3.11.7"
  }
 },
 "nbformat": 4,
 "nbformat_minor": 2
}
