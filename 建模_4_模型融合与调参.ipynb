{
 "cells": [
  {
   "cell_type": "markdown",
   "metadata": {},
   "source": [
    "# ***模型融合***"
   ]
  },
  {
   "cell_type": "code",
   "execution_count": 1,
   "metadata": {},
   "outputs": [],
   "source": [
    "import pandas as pd\n",
    "\n",
    "from sklearn import datasets\n",
    "from sklearn.model_selection import train_test_split\n",
    "from sklearn.metrics import accuracy_score\n",
    "from sklearn.svm import SVC, SVR\n",
    "from sklearn.tree import DecisionTreeClassifier\n",
    "from sklearn.naive_bayes import GaussianNB\n",
    "from sklearn.neighbors import KNeighborsClassifier\n",
    "from sklearn.linear_model import LogisticRegression\n",
    "from sklearn.ensemble import VotingClassifier, VotingRegressor"
   ]
  },
  {
   "cell_type": "code",
   "execution_count": 2,
   "metadata": {},
   "outputs": [],
   "source": [
    "import numpy as np\n",
    "\n",
    "from sklearn.model_selection import train_test_split\n",
    "from sklearn.linear_model import LinearRegression\n",
    "from sklearn.tree import DecisionTreeRegressor\n",
    "from sklearn.ensemble import RandomForestRegressor\n",
    "from sklearn.neighbors import KNeighborsRegressor\n",
    "from sklearn.metrics import mean_squared_error, mean_absolute_error"
   ]
  },
  {
   "cell_type": "markdown",
   "metadata": {},
   "source": [
    "## **分类模型融合——基于Voting**"
   ]
  },
  {
   "cell_type": "code",
   "execution_count": 3,
   "metadata": {},
   "outputs": [],
   "source": [
    "# 加载数据集\n",
    "iris = pd.read_excel(\"data\\\\iris.xlsx\")\n",
    "X = iris.drop(\"class\", axis=1)\n",
    "y = iris['class']\n",
    "\n",
    "# 划分训练集和测试集\n",
    "X_train, X_test, y_train, y_test = train_test_split(X, y, test_size=0.3, random_state=42)"
   ]
  },
  {
   "cell_type": "code",
   "execution_count": 4,
   "metadata": {},
   "outputs": [
    {
     "name": "stdout",
     "output_type": "stream",
     "text": [
      "1.0\n",
      "1.0\n",
      "0.9777777777777777\n",
      "1.0\n",
      "1.0\n",
      "1.0\n"
     ]
    }
   ],
   "source": [
    "# 初始化分类器\n",
    "svc = SVC(kernel='linear', probability=True)\n",
    "dtc = DecisionTreeClassifier()\n",
    "gnb = GaussianNB()\n",
    "knn = KNeighborsClassifier(n_neighbors=3)\n",
    "lr = LogisticRegression()\n",
    "\n",
    "# 创建VotingClassifier，设置voting为'soft'表示使用概率平均\n",
    "eclf = VotingClassifier(estimators=[\n",
    "    ('svc', svc), \n",
    "    ('dtc', dtc), \n",
    "    ('gnb', gnb), \n",
    "    ('knn', knn), \n",
    "    ('lr', lr)], \n",
    "    voting='soft')\n",
    "\n",
    "# 训练模型\n",
    "predictions = []\n",
    "for model in [svc, dtc, gnb, knn, lr, eclf]:\n",
    "    y_pred = model.fit(X_train, y_train).predict(X_test)\n",
    "    predictions.append(y_pred)\n",
    "    print(accuracy_score(y_test, y_pred))"
   ]
  },
  {
   "cell_type": "markdown",
   "metadata": {},
   "source": [
    "## **回归模型——基于Voting**"
   ]
  },
  {
   "cell_type": "code",
   "execution_count": 5,
   "metadata": {},
   "outputs": [],
   "source": [
    "# 加载数据集\n",
    "boston = pd.read_excel(\"data\\\\boston_house_prices.xlsx\")\n",
    "X = boston.drop(\"MEDV\", axis=1)\n",
    "y = boston['MEDV']\n",
    "\n",
    "# 划分训练集和测试集\n",
    "X_train, X_test, y_train, y_test = train_test_split(X, y, test_size=0.3, random_state=42)\n"
   ]
  },
  {
   "cell_type": "code",
   "execution_count": 6,
   "metadata": {},
   "outputs": [
    {
     "name": "stdout",
     "output_type": "stream",
     "text": [
      "53.50370874750568\n",
      "16.723157894736843\n",
      "28.149334795321632\n",
      "21.51744423117709\n",
      "15.779652809696751\n"
     ]
    }
   ],
   "source": [
    "# 初始化分类器\n",
    "svm = SVR()\n",
    "dtc = DecisionTreeRegressor()\n",
    "knn = KNeighborsRegressor(n_neighbors=3)\n",
    "lr = LinearRegression()\n",
    "\n",
    "# 创建VotingClassifier，设置voting为'soft'表示使用概率平均\n",
    "ereg = VotingRegressor(estimators=[\n",
    "    ('svm', svm), \n",
    "    ('dtc', dtc), \n",
    "    ('knn', knn), \n",
    "    ('lr', lr)])\n",
    "\n",
    "# 训练模型\n",
    "predictions = []\n",
    "for model in [svm, dtc, knn, lr, ereg]:\n",
    "    y_pred = model.fit(X_train, y_train).predict(X_test)\n",
    "    predictions.append(y_pred)\n",
    "    print(mean_squared_error(y_test, y_pred))"
   ]
  },
  {
   "cell_type": "code",
   "execution_count": null,
   "metadata": {},
   "outputs": [],
   "source": []
  }
 ],
 "metadata": {
  "kernelspec": {
   "display_name": "py_ds",
   "language": "python",
   "name": "python3"
  },
  "language_info": {
   "codemirror_mode": {
    "name": "ipython",
    "version": 3
   },
   "file_extension": ".py",
   "mimetype": "text/x-python",
   "name": "python",
   "nbconvert_exporter": "python",
   "pygments_lexer": "ipython3",
   "version": "3.11.7"
  }
 },
 "nbformat": 4,
 "nbformat_minor": 2
}
