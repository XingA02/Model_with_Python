{
 "cells": [
  {
   "cell_type": "markdown",
   "metadata": {},
   "source": [
    "# ***模型融合与参数寻优***"
   ]
  },
  {
   "cell_type": "code",
   "execution_count": 1,
   "metadata": {},
   "outputs": [],
   "source": [
    "import pandas as pd\n",
    "\n",
    "from sklearn import datasets\n",
    "from sklearn.model_selection import train_test_split\n",
    "from sklearn.metrics import accuracy_score\n",
    "from sklearn.svm import SVC, SVR\n",
    "from sklearn.tree import DecisionTreeClassifier\n",
    "from sklearn.naive_bayes import GaussianNB\n",
    "from sklearn.neighbors import KNeighborsClassifier\n",
    "from sklearn.linear_model import LogisticRegression\n",
    "from sklearn.ensemble import VotingClassifier, VotingRegressor"
   ]
  },
  {
   "cell_type": "code",
   "execution_count": 2,
   "metadata": {},
   "outputs": [],
   "source": [
    "import numpy as np\n",
    "\n",
    "from sklearn.model_selection import train_test_split\n",
    "from sklearn.linear_model import LinearRegression\n",
    "from sklearn.tree import DecisionTreeRegressor\n",
    "from sklearn.ensemble import RandomForestRegressor\n",
    "from sklearn.neighbors import KNeighborsRegressor\n",
    "from sklearn.metrics import mean_squared_error, mean_absolute_error"
   ]
  },
  {
   "cell_type": "markdown",
   "metadata": {},
   "source": [
    "## 模型融合"
   ]
  },
  {
   "cell_type": "markdown",
   "metadata": {},
   "source": [
    "### **分类模型融合——基于Voting**"
   ]
  },
  {
   "cell_type": "code",
   "execution_count": 3,
   "metadata": {},
   "outputs": [],
   "source": [
    "# 加载数据集\n",
    "iris = pd.read_excel(\"data\\\\iris.xlsx\")\n",
    "X = iris.drop(\"class\", axis=1)\n",
    "y = iris['class']\n",
    "\n",
    "# 划分训练集和测试集\n",
    "X_train, X_test, y_train, y_test = train_test_split(X, y, test_size=0.3, random_state=42)"
   ]
  },
  {
   "cell_type": "code",
   "execution_count": 4,
   "metadata": {},
   "outputs": [
    {
     "name": "stdout",
     "output_type": "stream",
     "text": [
      "1.0\n",
      "1.0\n",
      "0.9777777777777777\n",
      "1.0\n",
      "1.0\n",
      "1.0\n"
     ]
    }
   ],
   "source": [
    "# 初始化分类器\n",
    "svc = SVC(kernel='linear', probability=True)\n",
    "dtc = DecisionTreeClassifier()\n",
    "gnb = GaussianNB()\n",
    "knn = KNeighborsClassifier(n_neighbors=3)\n",
    "lr = LogisticRegression()\n",
    "\n",
    "# 创建VotingClassifier，设置voting为'soft'表示使用概率平均\n",
    "eclf = VotingClassifier(estimators=[\n",
    "    ('svc', svc), \n",
    "    ('dtc', dtc), \n",
    "    ('gnb', gnb), \n",
    "    ('knn', knn), \n",
    "    ('lr', lr)], \n",
    "    voting='soft')\n",
    "\n",
    "# 训练模型\n",
    "predictions = []\n",
    "for model in [svc, dtc, gnb, knn, lr, eclf]:\n",
    "    y_pred = model.fit(X_train, y_train).predict(X_test)\n",
    "    predictions.append(y_pred)\n",
    "    print(accuracy_score(y_test, y_pred))"
   ]
  },
  {
   "cell_type": "markdown",
   "metadata": {},
   "source": [
    "### **回归模型——基于Voting**"
   ]
  },
  {
   "cell_type": "code",
   "execution_count": 5,
   "metadata": {},
   "outputs": [],
   "source": [
    "# 加载数据集\n",
    "boston = pd.read_excel(\"data\\\\boston_house_prices.xlsx\")\n",
    "X = boston.drop(\"MEDV\", axis=1)\n",
    "y = boston['MEDV']\n",
    "\n",
    "# 划分训练集和测试集\n",
    "X_train, X_test, y_train, y_test = train_test_split(X, y, test_size=0.3, random_state=42)\n"
   ]
  },
  {
   "cell_type": "code",
   "execution_count": 6,
   "metadata": {},
   "outputs": [
    {
     "name": "stdout",
     "output_type": "stream",
     "text": [
      "53.50370874750568\n",
      "18.579605263157898\n",
      "28.149334795321632\n",
      "21.51744423117709\n",
      "15.066349344279764\n"
     ]
    }
   ],
   "source": [
    "# 初始化分类器\n",
    "svm = SVR()\n",
    "dtc = DecisionTreeRegressor()\n",
    "knn = KNeighborsRegressor(n_neighbors=3)\n",
    "lr = LinearRegression()\n",
    "\n",
    "# 创建VotingClassifier，设置voting为'soft'表示使用概率平均\n",
    "ereg = VotingRegressor(estimators=[\n",
    "    ('svm', svm), \n",
    "    ('dtc', dtc), \n",
    "    ('knn', knn), \n",
    "    ('lr', lr)])\n",
    "\n",
    "# 训练模型\n",
    "predictions = []\n",
    "for model in [svm, dtc, knn, lr, ereg]:\n",
    "    y_pred = model.fit(X_train, y_train).predict(X_test)\n",
    "    predictions.append(y_pred)\n",
    "    print(mean_squared_error(y_test, y_pred))"
   ]
  },
  {
   "cell_type": "markdown",
   "metadata": {},
   "source": [
    "## 参数寻优"
   ]
  },
  {
   "cell_type": "code",
   "execution_count": 7,
   "metadata": {},
   "outputs": [
    {
     "ename": "NameError",
     "evalue": "name 'X1_train' is not defined",
     "output_type": "error",
     "traceback": [
      "\u001b[1;31m---------------------------------------------------------------------------\u001b[0m",
      "\u001b[1;31mNameError\u001b[0m                                 Traceback (most recent call last)",
      "Cell \u001b[1;32mIn[7], line 18\u001b[0m\n\u001b[0;32m      8\u001b[0m param1 \u001b[38;5;241m=\u001b[39m {\n\u001b[0;32m      9\u001b[0m         \u001b[38;5;124m\"\u001b[39m\u001b[38;5;124mmax_depth\u001b[39m\u001b[38;5;124m\"\u001b[39m:[\u001b[38;5;241m4\u001b[39m, \u001b[38;5;241m7\u001b[39m, \u001b[38;5;241m10\u001b[39m],\n\u001b[0;32m     10\u001b[0m         \u001b[38;5;124m'\u001b[39m\u001b[38;5;124mmin_child_weight\u001b[39m\u001b[38;5;124m'\u001b[39m: [\u001b[38;5;241m1\u001b[39m, \u001b[38;5;241m3\u001b[39m, \u001b[38;5;241m5\u001b[39m],\n\u001b[1;32m   (...)\u001b[0m\n\u001b[0;32m     14\u001b[0m         \u001b[38;5;124m'\u001b[39m\u001b[38;5;124mreg_lambda\u001b[39m\u001b[38;5;124m'\u001b[39m: [\u001b[38;5;241m0.05\u001b[39m, \u001b[38;5;241m0.1\u001b[39m, \u001b[38;5;241m1\u001b[39m]\n\u001b[0;32m     15\u001b[0m         }\n\u001b[0;32m     17\u001b[0m grid_search1 \u001b[38;5;241m=\u001b[39m GridSearchCV(xgb_reg, n_jobs\u001b[38;5;241m=\u001b[39m\u001b[38;5;241m-\u001b[39m\u001b[38;5;241m1\u001b[39m, param_grid\u001b[38;5;241m=\u001b[39mparam1, cv\u001b[38;5;241m=\u001b[39m\u001b[38;5;241m5\u001b[39m)\n\u001b[1;32m---> 18\u001b[0m grid_search1\u001b[38;5;241m.\u001b[39mfit(X1_train, y1_train)\n\u001b[0;32m     21\u001b[0m grid_search1\u001b[38;5;241m.\u001b[39mbest_estimator_, grid_search1\u001b[38;5;241m.\u001b[39mbest_score_\n",
      "\u001b[1;31mNameError\u001b[0m: name 'X1_train' is not defined"
     ]
    }
   ],
   "source": [
    "from sklearn.model_selection import GridSearchCV\n",
    "import xgboost as xgb\n",
    "\n",
    "# 尽量把学习率设置的高点，这样迭代的时间会短些\n",
    "# 此处以回归器为例，分类器同理\n",
    "xgb_reg = xgb.XGBRegressor(learning_rate=0.1)\n",
    "\n",
    "param1 = {\n",
    "        \"max_depth\":[4, 7, 10],\n",
    "        'min_child_weight': [1, 3, 5],\n",
    "        \"n_estimators\":[10, 50, 100],\n",
    "        'gamma': [0.1, 0.3, 0.5],\n",
    "        'reg_alpha': [0.05, 0.1, 1], \n",
    "        'reg_lambda': [0.05, 0.1, 1]\n",
    "        }\n",
    "\n",
    "grid_search1 = GridSearchCV(xgb_reg, n_jobs=-1, param_grid=param1, cv=5)\n",
    "grid_search1.fit(X1_train, y1_train)\n",
    "\n",
    "\n",
    "grid_search1.best_estimator_, grid_search1.best_score_"
   ]
  },
  {
   "cell_type": "code",
   "execution_count": null,
   "metadata": {},
   "outputs": [],
   "source": [
    "xgb_reg_PLUS = grid_search1.best_estimator_\n",
    "y1_pred = xgb_reg_PLUS.fit(X1_train, y1_train).predict(X1_test)"
   ]
  },
  {
   "cell_type": "code",
   "execution_count": null,
   "metadata": {},
   "outputs": [],
   "source": [
    "import lightgbm as lgb\n",
    "\n",
    "lgb_reg = lgb.LGBMRegressor(learning_rate=0.1)\n",
    "param2 = {\n",
    "        \"max_depth\":[4, 7, 10],\n",
    "        \"num_leaves\":[300, 600, 900],\n",
    "        \"n_estimators\":[10, 70, 130],\n",
    "        'min_child_samples': [18, 20, 22],\n",
    "        'min_child_weight':[0.001, 0.002]\n",
    "        }\n",
    "\n",
    "grid_search2 = GridSearchCV(lgb_reg, n_jobs=-1, param_grid=param2, cv=5)\n",
    "grid_search2.fit(X1_train, y1_train)\n",
    "\n",
    "grid_search2.best_estimator_, grid_search1.best_score_"
   ]
  },
  {
   "cell_type": "code",
   "execution_count": null,
   "metadata": {},
   "outputs": [],
   "source": [
    "lgb_reg_PLUS = grid_search2.best_estimator_\n",
    "y1_pred = lgb_reg_PLUS.fit(X1_train, y1_train).predict(X1_test)"
   ]
  }
 ],
 "metadata": {
  "kernelspec": {
   "display_name": "py_ds",
   "language": "python",
   "name": "python3"
  },
  "language_info": {
   "codemirror_mode": {
    "name": "ipython",
    "version": 3
   },
   "file_extension": ".py",
   "mimetype": "text/x-python",
   "name": "python",
   "nbconvert_exporter": "python",
   "pygments_lexer": "ipython3",
   "version": "3.11.7"
  }
 },
 "nbformat": 4,
 "nbformat_minor": 2
}
