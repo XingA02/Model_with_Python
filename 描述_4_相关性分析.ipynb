{
 "cells": [
  {
   "cell_type": "markdown",
   "metadata": {},
   "source": [
    "在Python中进行相关性分析通常涉及到计算两个变量之间的相关系数以及相关性的显著性检验（即p值）。常见的三种相关性分析方法包括：\n",
    "\n",
    "- Pearson相关系数\n",
    "- Spearman秩相关系数\n",
    "- Kendall's Tau相关系数\n",
    "\n",
    "这些方法适用于不同类型的数据和不同的分布情况，以下是它们的特点和区别：\n"
   ]
  },
  {
   "cell_type": "code",
   "execution_count": 5,
   "metadata": {},
   "outputs": [
    {
     "data": {
      "text/html": [
       "<div>\n",
       "<style scoped>\n",
       "    .dataframe tbody tr th:only-of-type {\n",
       "        vertical-align: middle;\n",
       "    }\n",
       "\n",
       "    .dataframe tbody tr th {\n",
       "        vertical-align: top;\n",
       "    }\n",
       "\n",
       "    .dataframe thead th {\n",
       "        text-align: right;\n",
       "    }\n",
       "</style>\n",
       "<table border=\"1\" class=\"dataframe\">\n",
       "  <thead>\n",
       "    <tr style=\"text-align: right;\">\n",
       "      <th></th>\n",
       "      <th>CRIM</th>\n",
       "      <th>ZN</th>\n",
       "      <th>INDUS</th>\n",
       "      <th>CHAS</th>\n",
       "      <th>NOX</th>\n",
       "      <th>RM</th>\n",
       "      <th>AGE</th>\n",
       "      <th>DIS</th>\n",
       "      <th>RAD</th>\n",
       "      <th>TAX</th>\n",
       "      <th>PTRATIO</th>\n",
       "      <th>B</th>\n",
       "      <th>LSTAT</th>\n",
       "      <th>MEDV</th>\n",
       "    </tr>\n",
       "  </thead>\n",
       "  <tbody>\n",
       "    <tr>\n",
       "      <th>0</th>\n",
       "      <td>0.00632</td>\n",
       "      <td>18.0</td>\n",
       "      <td>2.31</td>\n",
       "      <td>0</td>\n",
       "      <td>0.538</td>\n",
       "      <td>6.575</td>\n",
       "      <td>65.2</td>\n",
       "      <td>4.0900</td>\n",
       "      <td>1</td>\n",
       "      <td>296</td>\n",
       "      <td>15.3</td>\n",
       "      <td>396.90</td>\n",
       "      <td>4.98</td>\n",
       "      <td>24.0</td>\n",
       "    </tr>\n",
       "    <tr>\n",
       "      <th>1</th>\n",
       "      <td>0.02731</td>\n",
       "      <td>0.0</td>\n",
       "      <td>7.07</td>\n",
       "      <td>0</td>\n",
       "      <td>0.469</td>\n",
       "      <td>6.421</td>\n",
       "      <td>78.9</td>\n",
       "      <td>4.9671</td>\n",
       "      <td>2</td>\n",
       "      <td>242</td>\n",
       "      <td>17.8</td>\n",
       "      <td>396.90</td>\n",
       "      <td>9.14</td>\n",
       "      <td>21.6</td>\n",
       "    </tr>\n",
       "    <tr>\n",
       "      <th>2</th>\n",
       "      <td>0.02729</td>\n",
       "      <td>0.0</td>\n",
       "      <td>7.07</td>\n",
       "      <td>0</td>\n",
       "      <td>0.469</td>\n",
       "      <td>7.185</td>\n",
       "      <td>61.1</td>\n",
       "      <td>4.9671</td>\n",
       "      <td>2</td>\n",
       "      <td>242</td>\n",
       "      <td>17.8</td>\n",
       "      <td>392.83</td>\n",
       "      <td>4.03</td>\n",
       "      <td>34.7</td>\n",
       "    </tr>\n",
       "    <tr>\n",
       "      <th>3</th>\n",
       "      <td>0.03237</td>\n",
       "      <td>0.0</td>\n",
       "      <td>2.18</td>\n",
       "      <td>0</td>\n",
       "      <td>0.458</td>\n",
       "      <td>6.998</td>\n",
       "      <td>45.8</td>\n",
       "      <td>6.0622</td>\n",
       "      <td>3</td>\n",
       "      <td>222</td>\n",
       "      <td>18.7</td>\n",
       "      <td>394.63</td>\n",
       "      <td>2.94</td>\n",
       "      <td>33.4</td>\n",
       "    </tr>\n",
       "    <tr>\n",
       "      <th>4</th>\n",
       "      <td>0.06905</td>\n",
       "      <td>0.0</td>\n",
       "      <td>2.18</td>\n",
       "      <td>0</td>\n",
       "      <td>0.458</td>\n",
       "      <td>7.147</td>\n",
       "      <td>54.2</td>\n",
       "      <td>6.0622</td>\n",
       "      <td>3</td>\n",
       "      <td>222</td>\n",
       "      <td>18.7</td>\n",
       "      <td>396.90</td>\n",
       "      <td>5.33</td>\n",
       "      <td>36.2</td>\n",
       "    </tr>\n",
       "  </tbody>\n",
       "</table>\n",
       "</div>"
      ],
      "text/plain": [
       "      CRIM    ZN  INDUS  CHAS    NOX     RM   AGE     DIS  RAD  TAX  PTRATIO  \\\n",
       "0  0.00632  18.0   2.31     0  0.538  6.575  65.2  4.0900    1  296     15.3   \n",
       "1  0.02731   0.0   7.07     0  0.469  6.421  78.9  4.9671    2  242     17.8   \n",
       "2  0.02729   0.0   7.07     0  0.469  7.185  61.1  4.9671    2  242     17.8   \n",
       "3  0.03237   0.0   2.18     0  0.458  6.998  45.8  6.0622    3  222     18.7   \n",
       "4  0.06905   0.0   2.18     0  0.458  7.147  54.2  6.0622    3  222     18.7   \n",
       "\n",
       "        B  LSTAT  MEDV  \n",
       "0  396.90   4.98  24.0  \n",
       "1  396.90   9.14  21.6  \n",
       "2  392.83   4.03  34.7  \n",
       "3  394.63   2.94  33.4  \n",
       "4  396.90   5.33  36.2  "
      ]
     },
     "execution_count": 5,
     "metadata": {},
     "output_type": "execute_result"
    }
   ],
   "source": [
    "import pandas as pd\n",
    "import scipy.stats as stats\n",
    "\n",
    "df = pd.read_excel(\"data\\\\boston_house_prices.xlsx\")\n",
    "df.head()"
   ]
  },
  {
   "cell_type": "markdown",
   "metadata": {},
   "source": [
    "\n",
    "### 1. Pearson相关系数\n",
    "\n",
    "Pearson相关系数衡量了两个连续变量之间的线性关系强度和方向。它假设变量之间的关系是线性的，并且对数据的分布有要求（通常要求数据是正态分布或近似正态分布）。\n",
    "\n",
    "- **特点**：\n",
    "  - 衡量的是线性关系的强度和方向。\n",
    "  - 取值范围为 \\([-1, 1]\\)，其中 -1 表示完全负相关，1 表示完全正相关，0 表示无线性关系。\n",
    "  - 适用于连续变量。\n",
    "  - 对数据的要求较高，需要符合正态分布或接近正态分布。\n",
    "\n"
   ]
  },
  {
   "cell_type": "code",
   "execution_count": 6,
   "metadata": {},
   "outputs": [],
   "source": [
    "# 计算Pearson相关系数及p值\n",
    "pearson_corr = df.corr(method='pearson')\n",
    "pearson_pval = df.corr(method=lambda x, y: stats.pearsonr(x, y)[1])"
   ]
  },
  {
   "cell_type": "markdown",
   "metadata": {},
   "source": [
    "\n",
    "### 2. Spearman秩相关系数\n",
    "\n",
    "Spearman秩相关系数是一种非参数方法，用于衡量两个变量之间的单调关系，即不要求数据是线性相关，只要求两个变量的单调性关系一致即可。它通过对变量的秩次（排名）进行比较来计算相关性。\n",
    "\n",
    "- **特点**：\n",
    "  - 适用于不满足线性关系假设的数据。\n",
    "  - 可以处理变量的秩次而不需要变量本身的具体数值。\n",
    "  - 对异常值不敏感。\n",
    "  - 取值范围也是 \\([-1, 1]\\)，解释方式与Pearson相关系数类似。"
   ]
  },
  {
   "cell_type": "code",
   "execution_count": 7,
   "metadata": {},
   "outputs": [],
   "source": [
    "# 计算Spearman相关系数及p值\n",
    "spearman_corr = df.corr(method='spearman')\n",
    "spearman_pval = df.corr(method=lambda x, y: stats.spearmanr(x, y)[1]) "
   ]
  },
  {
   "cell_type": "markdown",
   "metadata": {},
   "source": [
    "\n",
    "### 3. Kendall's Tau相关系数\n",
    "\n",
    "Kendall's Tau相关系数也是一种非参数方法，与Spearman秩相关系数类似，用于衡量两个变量之间的单调关系。它通过比较变量的秩次对的一致性和不一致性来计算相关性。\n",
    "\n",
    "- **特点**：\n",
    "  - 适用于不满足线性关系假设的数据。\n",
    "  - 对数据的秩次对一致性和不一致性进行比较。\n",
    "  - 类似于Spearman，但其计算方法和解释略有不同。\n"
   ]
  },
  {
   "cell_type": "code",
   "execution_count": 8,
   "metadata": {},
   "outputs": [],
   "source": [
    "# 计算Kendall's Tau相关系数及p值\n",
    "kendall_corr = df.corr(method='kendall')\n",
    "kendall_pval = df.corr(method=lambda x, y: stats.kendalltau(x, y)[1])  "
   ]
  },
  {
   "cell_type": "markdown",
   "metadata": {},
   "source": [
    "\n",
    "### 区别与选择：\n",
    "\n",
    "- **数据类型**：Pearson适用于连续变量，而Spearman和Kendall适用于连续或有序分类变量。\n",
    "- **假设**：Pearson假设线性关系，而Spearman和Kendall不假设线性关系，只假设单调关系。\n",
    "- **计算复杂度**：Spearman和Kendall的计算复杂度相对高一些，特别是在样本量大时。\n",
    "- **鲁棒性**：Spearman和Kendall对异常值更具有鲁棒性。\n",
    "\n",
    "在选择相关性分析方法时，根据数据的特点和分布选择合适的方法是至关重要的。通常建议先使用Pearson相关系数进行分析，然后根据需要进一步使用Spearman或Kendall进行确认或更深入的探索。"
   ]
  }
 ],
 "metadata": {
  "kernelspec": {
   "display_name": "py_ds",
   "language": "python",
   "name": "python3"
  },
  "language_info": {
   "codemirror_mode": {
    "name": "ipython",
    "version": 3
   },
   "file_extension": ".py",
   "mimetype": "text/x-python",
   "name": "python",
   "nbconvert_exporter": "python",
   "pygments_lexer": "ipython3",
   "version": "3.11.7"
  }
 },
 "nbformat": 4,
 "nbformat_minor": 2
}
