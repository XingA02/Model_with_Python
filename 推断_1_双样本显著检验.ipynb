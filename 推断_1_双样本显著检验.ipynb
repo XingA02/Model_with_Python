{
 "cells": [
  {
   "cell_type": "markdown",
   "metadata": {},
   "source": [
    "# 引言"
   ]
  },
  {
   "cell_type": "markdown",
   "metadata": {},
   "source": [
    "假设检验包括显著性检验和其他检验，我们今天讲显著性检验，\n",
    "\n",
    "按照类型：显著性检验包括参数检验（对数据要求高，结果很可信）和非参数检验（对数据没要求，结果不如参数检验可信）。\n",
    "\n",
    "按照对象情况：显著性检验包括双样本检验（t检验）、多样本检验（f检验）和其他检验"
   ]
  },
  {
   "cell_type": "markdown",
   "metadata": {},
   "source": [
    "今天要用到的库是pingouin"
   ]
  },
  {
   "cell_type": "markdown",
   "metadata": {},
   "source": [
    "***学习显著性检验的代码实现可以不深究原理，而是搞清楚这几个东西：***\n",
    "\n",
    "- 每个方法的使用场景和目的\n",
    "- 每个方法的假设与验证假设的方法\n",
    "- 怎么看结果"
   ]
  },
  {
   "cell_type": "markdown",
   "metadata": {},
   "source": [
    "任何假设检验都会求出一个统计量和p值，统计量无所谓（但是要写在论文里作为结果呈现），这个p值就是显著性检验最重要的结果，p<0.05则有显著差异，p>0.05则没有显著差异"
   ]
  },
  {
   "cell_type": "markdown",
   "metadata": {},
   "source": [
    "显著性检验一般结果要在论文里呈现的是统计量和p值（如果方便可以加一个cohen-d）"
   ]
  },
  {
   "cell_type": "markdown",
   "metadata": {},
   "source": [
    "# 双样本显著检验——T检验及其非参数检验\n",
    "<br><br>"
   ]
  },
  {
   "cell_type": "markdown",
   "metadata": {},
   "source": [
    "### 1. 独立样本 t 检验（Independent Samples t-Test）\n",
    "\n",
    "**目的和用处：**\n",
    "- **目的：** 检验两个独立的样本（如两组不同的参与者、两种不同的治疗方法等）的平均值是否有显著差异。\n",
    "- **用处：** 用于确定两组独立样本的均值是否有显著差异，从而评估两组之间的差异性。\n",
    "\n",
    "**模型假设：**\n",
    "1. **独立性假设：** 两个样本是相互独立的。\n",
    "2. **正态性假设：** 每个样本的观察值来自于正态分布。\n",
    "3. **方差齐性假设：** 两个样本的总体方差应该相等。\n"
   ]
  },
  {
   "cell_type": "code",
   "execution_count": 1,
   "metadata": {},
   "outputs": [],
   "source": [
    "import pingouin as pg\n",
    "\n",
    "# 独立样本\n",
    "group_A = [5.5, 2.4, 6.8, 9.6, 4.2]\n",
    "group_B = [6.4, 3.4, 6.4, 11., 4.8]"
   ]
  },
  {
   "cell_type": "code",
   "execution_count": 2,
   "metadata": {},
   "outputs": [
    {
     "name": "stdout",
     "output_type": "stream",
     "text": [
      "          W      pval  normal\n",
      "0  0.989862  0.979208    True\n",
      "          W      pval  normal\n",
      "0  0.903597  0.430084    True\n",
      "               W      pval  equal_var\n",
      "levene  0.010916  0.919362       True\n"
     ]
    }
   ],
   "source": [
    "# 正态性检验\n",
    "print(pg.normality(group_A))\n",
    "print(pg.normality(group_B))\n",
    "\n",
    "# 方差齐性检验\n",
    "print(pg.homoscedasticity([group_A, group_B]))"
   ]
  },
  {
   "cell_type": "code",
   "execution_count": 3,
   "metadata": {},
   "outputs": [
    {
     "data": {
      "text/html": [
       "<div>\n",
       "<style scoped>\n",
       "    .dataframe tbody tr th:only-of-type {\n",
       "        vertical-align: middle;\n",
       "    }\n",
       "\n",
       "    .dataframe tbody tr th {\n",
       "        vertical-align: top;\n",
       "    }\n",
       "\n",
       "    .dataframe thead th {\n",
       "        text-align: right;\n",
       "    }\n",
       "</style>\n",
       "<table border=\"1\" class=\"dataframe\">\n",
       "  <thead>\n",
       "    <tr style=\"text-align: right;\">\n",
       "      <th></th>\n",
       "      <th>T</th>\n",
       "      <th>dof</th>\n",
       "      <th>alternative</th>\n",
       "      <th>p-val</th>\n",
       "      <th>CI95%</th>\n",
       "      <th>cohen-d</th>\n",
       "      <th>BF10</th>\n",
       "      <th>power</th>\n",
       "    </tr>\n",
       "  </thead>\n",
       "  <tbody>\n",
       "    <tr>\n",
       "      <th>T-test</th>\n",
       "      <td>-0.396551</td>\n",
       "      <td>8</td>\n",
       "      <td>two-sided</td>\n",
       "      <td>0.702066</td>\n",
       "      <td>[-4.77, 3.37]</td>\n",
       "      <td>0.250801</td>\n",
       "      <td>0.517</td>\n",
       "      <td>0.064257</td>\n",
       "    </tr>\n",
       "  </tbody>\n",
       "</table>\n",
       "</div>"
      ],
      "text/plain": [
       "               T  dof alternative     p-val          CI95%   cohen-d   BF10  \\\n",
       "T-test -0.396551    8   two-sided  0.702066  [-4.77, 3.37]  0.250801  0.517   \n",
       "\n",
       "           power  \n",
       "T-test  0.064257  "
      ]
     },
     "execution_count": 3,
     "metadata": {},
     "output_type": "execute_result"
    }
   ],
   "source": [
    "pg.ttest(x=group_A, \n",
    "        y=group_B, \n",
    "        correction=False,  # 该参数在方差齐性通过时为False，不通过时为True\n",
    "        alternative='two-sided',   # 双边检验：two-sided, greater, less\n",
    "        )"
   ]
  },
  {
   "cell_type": "markdown",
   "metadata": {},
   "source": [
    "\n",
    "### 2. 配对样本 t 检验（Paired Samples t-Test）\n",
    "\n",
    "**目的和用处：**\n",
    "- **目的：** 检验同一组体系中的两个相关样本（如同一组人群在不同时间点或条件下的观察值）的平均值是否有显著差异。\n",
    "- **用处：** 用于确定两个相关样本的平均值是否有显著差异，从而评估在不同条件下的变化效果。\n",
    "\n",
    "**模型假设：**\n",
    "1. **相关性假设：** 两个样本是相关的，即两组观察值是配对的。\n",
    "2. **差值正态性假设：** 差值（即每对样本的差异）来自于正态分布。\n"
   ]
  },
  {
   "cell_type": "code",
   "execution_count": 4,
   "metadata": {},
   "outputs": [
    {
     "data": {
      "text/html": [
       "<div>\n",
       "<style scoped>\n",
       "    .dataframe tbody tr th:only-of-type {\n",
       "        vertical-align: middle;\n",
       "    }\n",
       "\n",
       "    .dataframe tbody tr th {\n",
       "        vertical-align: top;\n",
       "    }\n",
       "\n",
       "    .dataframe thead th {\n",
       "        text-align: right;\n",
       "    }\n",
       "</style>\n",
       "<table border=\"1\" class=\"dataframe\">\n",
       "  <thead>\n",
       "    <tr style=\"text-align: right;\">\n",
       "      <th></th>\n",
       "      <th>before</th>\n",
       "      <th>after</th>\n",
       "    </tr>\n",
       "  </thead>\n",
       "  <tbody>\n",
       "    <tr>\n",
       "      <th>0</th>\n",
       "      <td>21</td>\n",
       "      <td>23</td>\n",
       "    </tr>\n",
       "    <tr>\n",
       "      <th>1</th>\n",
       "      <td>25</td>\n",
       "      <td>27</td>\n",
       "    </tr>\n",
       "    <tr>\n",
       "      <th>2</th>\n",
       "      <td>24</td>\n",
       "      <td>26</td>\n",
       "    </tr>\n",
       "    <tr>\n",
       "      <th>3</th>\n",
       "      <td>26</td>\n",
       "      <td>28</td>\n",
       "    </tr>\n",
       "    <tr>\n",
       "      <th>4</th>\n",
       "      <td>23</td>\n",
       "      <td>25</td>\n",
       "    </tr>\n",
       "    <tr>\n",
       "      <th>5</th>\n",
       "      <td>22</td>\n",
       "      <td>24</td>\n",
       "    </tr>\n",
       "    <tr>\n",
       "      <th>6</th>\n",
       "      <td>20</td>\n",
       "      <td>22</td>\n",
       "    </tr>\n",
       "    <tr>\n",
       "      <th>7</th>\n",
       "      <td>21</td>\n",
       "      <td>23</td>\n",
       "    </tr>\n",
       "    <tr>\n",
       "      <th>8</th>\n",
       "      <td>24</td>\n",
       "      <td>26</td>\n",
       "    </tr>\n",
       "    <tr>\n",
       "      <th>9</th>\n",
       "      <td>23</td>\n",
       "      <td>25</td>\n",
       "    </tr>\n",
       "    <tr>\n",
       "      <th>10</th>\n",
       "      <td>22</td>\n",
       "      <td>24</td>\n",
       "    </tr>\n",
       "    <tr>\n",
       "      <th>11</th>\n",
       "      <td>25</td>\n",
       "      <td>27</td>\n",
       "    </tr>\n",
       "    <tr>\n",
       "      <th>12</th>\n",
       "      <td>21</td>\n",
       "      <td>23</td>\n",
       "    </tr>\n",
       "    <tr>\n",
       "      <th>13</th>\n",
       "      <td>22</td>\n",
       "      <td>24</td>\n",
       "    </tr>\n",
       "    <tr>\n",
       "      <th>14</th>\n",
       "      <td>24</td>\n",
       "      <td>26</td>\n",
       "    </tr>\n",
       "    <tr>\n",
       "      <th>15</th>\n",
       "      <td>23</td>\n",
       "      <td>25</td>\n",
       "    </tr>\n",
       "    <tr>\n",
       "      <th>16</th>\n",
       "      <td>21</td>\n",
       "      <td>23</td>\n",
       "    </tr>\n",
       "    <tr>\n",
       "      <th>17</th>\n",
       "      <td>22</td>\n",
       "      <td>24</td>\n",
       "    </tr>\n",
       "    <tr>\n",
       "      <th>18</th>\n",
       "      <td>20</td>\n",
       "      <td>22</td>\n",
       "    </tr>\n",
       "    <tr>\n",
       "      <th>19</th>\n",
       "      <td>21</td>\n",
       "      <td>23</td>\n",
       "    </tr>\n",
       "    <tr>\n",
       "      <th>20</th>\n",
       "      <td>22</td>\n",
       "      <td>24</td>\n",
       "    </tr>\n",
       "    <tr>\n",
       "      <th>21</th>\n",
       "      <td>23</td>\n",
       "      <td>25</td>\n",
       "    </tr>\n",
       "    <tr>\n",
       "      <th>22</th>\n",
       "      <td>24</td>\n",
       "      <td>26</td>\n",
       "    </tr>\n",
       "    <tr>\n",
       "      <th>23</th>\n",
       "      <td>25</td>\n",
       "      <td>27</td>\n",
       "    </tr>\n",
       "    <tr>\n",
       "      <th>24</th>\n",
       "      <td>22</td>\n",
       "      <td>24</td>\n",
       "    </tr>\n",
       "    <tr>\n",
       "      <th>25</th>\n",
       "      <td>21</td>\n",
       "      <td>23</td>\n",
       "    </tr>\n",
       "    <tr>\n",
       "      <th>26</th>\n",
       "      <td>20</td>\n",
       "      <td>22</td>\n",
       "    </tr>\n",
       "  </tbody>\n",
       "</table>\n",
       "</div>"
      ],
      "text/plain": [
       "    before  after\n",
       "0       21     23\n",
       "1       25     27\n",
       "2       24     26\n",
       "3       26     28\n",
       "4       23     25\n",
       "5       22     24\n",
       "6       20     22\n",
       "7       21     23\n",
       "8       24     26\n",
       "9       23     25\n",
       "10      22     24\n",
       "11      25     27\n",
       "12      21     23\n",
       "13      22     24\n",
       "14      24     26\n",
       "15      23     25\n",
       "16      21     23\n",
       "17      22     24\n",
       "18      20     22\n",
       "19      21     23\n",
       "20      22     24\n",
       "21      23     25\n",
       "22      24     26\n",
       "23      25     27\n",
       "24      22     24\n",
       "25      21     23\n",
       "26      20     22"
      ]
     },
     "execution_count": 4,
     "metadata": {},
     "output_type": "execute_result"
    }
   ],
   "source": [
    "import pandas as pd\n",
    "import pingouin as pg\n",
    "\n",
    "# 生成示例数据\n",
    "df = pd.DataFrame({\n",
    "    'before': [21, 25, 24, 26, 23, 22, 20, 21, 24, 23, 22, 25, 21, 22, 24, 23, 21, 22, 20, 21, 22, 23, 24, 25, 22, 21, 20],\n",
    "    'after': [23, 27, 26, 28, 25, 24, 22, 23, 26, 25, 24, 27, 23, 24, 26, 25, 23, 24, 22, 23, 24, 25, 26, 27, 24, 23, 22]\n",
    "    })\n",
    "df"
   ]
  },
  {
   "cell_type": "code",
   "execution_count": 5,
   "metadata": {},
   "outputs": [
    {
     "name": "stdout",
     "output_type": "stream",
     "text": [
      "          n    r       CI95%  p-val BF10  power\n",
      "pearson  27  1.0  [1.0, 1.0]    0.0  inf      1\n",
      "        W  pval  normal\n",
      "diff  1.0   1.0    True\n"
     ]
    },
    {
     "name": "stderr",
     "output_type": "stream",
     "text": [
      "d:\\Coding\\python\\envs\\py_ds\\Lib\\site-packages\\scipy\\stats\\_axis_nan_policy.py:531: UserWarning: scipy.stats.shapiro: Input data has range zero. The results may not be accurate.\n",
      "  res = hypotest_fun_out(*samples, **kwds)\n"
     ]
    }
   ],
   "source": [
    "# 相关性检验\n",
    "print(pg.corr(df['before'], df['after']))\n",
    "\n",
    "# 计算差值，差值正态性检验\n",
    "df['diff'] = df['after'] - df['before']\n",
    "print(pg.normality(df['diff']))"
   ]
  },
  {
   "cell_type": "code",
   "execution_count": 6,
   "metadata": {},
   "outputs": [
    {
     "name": "stderr",
     "output_type": "stream",
     "text": [
      "d:\\Coding\\python\\envs\\py_ds\\Lib\\site-packages\\scipy\\stats\\_axis_nan_policy.py:531: RuntimeWarning: Precision loss occurred in moment calculation due to catastrophic cancellation. This occurs when the data are nearly identical. Results may be unreliable.\n",
      "  res = hypotest_fun_out(*samples, **kwds)\n",
      "d:\\Coding\\python\\envs\\py_ds\\Lib\\site-packages\\pingouin\\parametric.py:280: RuntimeWarning: invalid value encountered in multiply\n",
      "  ci = np.array([tval - tcrit, tval + tcrit]) * se\n"
     ]
    },
    {
     "data": {
      "text/html": [
       "<div>\n",
       "<style scoped>\n",
       "    .dataframe tbody tr th:only-of-type {\n",
       "        vertical-align: middle;\n",
       "    }\n",
       "\n",
       "    .dataframe tbody tr th {\n",
       "        vertical-align: top;\n",
       "    }\n",
       "\n",
       "    .dataframe thead th {\n",
       "        text-align: right;\n",
       "    }\n",
       "</style>\n",
       "<table border=\"1\" class=\"dataframe\">\n",
       "  <thead>\n",
       "    <tr style=\"text-align: right;\">\n",
       "      <th></th>\n",
       "      <th>T</th>\n",
       "      <th>dof</th>\n",
       "      <th>alternative</th>\n",
       "      <th>p-val</th>\n",
       "      <th>CI95%</th>\n",
       "      <th>cohen-d</th>\n",
       "      <th>BF10</th>\n",
       "      <th>power</th>\n",
       "    </tr>\n",
       "  </thead>\n",
       "  <tbody>\n",
       "    <tr>\n",
       "      <th>T-test</th>\n",
       "      <td>-inf</td>\n",
       "      <td>26</td>\n",
       "      <td>two-sided</td>\n",
       "      <td>0.0</td>\n",
       "      <td>[nan, nan]</td>\n",
       "      <td>1.179609</td>\n",
       "      <td>nan</td>\n",
       "      <td>0.999958</td>\n",
       "    </tr>\n",
       "  </tbody>\n",
       "</table>\n",
       "</div>"
      ],
      "text/plain": [
       "          T  dof alternative  p-val       CI95%   cohen-d BF10     power\n",
       "T-test -inf   26   two-sided    0.0  [nan, nan]  1.179609  nan  0.999958"
      ]
     },
     "execution_count": 6,
     "metadata": {},
     "output_type": "execute_result"
    }
   ],
   "source": [
    "# 配对样本 t 检验\n",
    "pg.ttest(x=df['before'], \n",
    "        y=df['after'], \n",
    "        paired=True,   # 表示进行配对样本检验\n",
    "        alternative='two-sided',  # 双边检验\n",
    "        )"
   ]
  },
  {
   "cell_type": "markdown",
   "metadata": {},
   "source": [
    "\n",
    "### 3. 单样本 t 检验（One Sample t-Test）\n",
    "\n",
    "**目的和用处：**\n",
    "- **目的：** 检验单个样本的平均值是否与某个已知的总体均值有显著差异。\n",
    "- **用处：** 用于确定单个样本的平均值是否有显著不同于已知总体均值的水平。\n",
    "\n",
    "**模型假设：**\n",
    "1. **正态性假设：** 单个样本的观察值来自于正态分布。\n",
    "2. **总体均值假设：** 单个样本的均值等于已知的总体均值。\n",
    "\n"
   ]
  },
  {
   "cell_type": "code",
   "execution_count": 7,
   "metadata": {},
   "outputs": [],
   "source": [
    "group_A = [5.5, 2.4, 6.8, 9.6, 4.2]"
   ]
  },
  {
   "cell_type": "code",
   "execution_count": 8,
   "metadata": {},
   "outputs": [
    {
     "data": {
      "text/html": [
       "<div>\n",
       "<style scoped>\n",
       "    .dataframe tbody tr th:only-of-type {\n",
       "        vertical-align: middle;\n",
       "    }\n",
       "\n",
       "    .dataframe tbody tr th {\n",
       "        vertical-align: top;\n",
       "    }\n",
       "\n",
       "    .dataframe thead th {\n",
       "        text-align: right;\n",
       "    }\n",
       "</style>\n",
       "<table border=\"1\" class=\"dataframe\">\n",
       "  <thead>\n",
       "    <tr style=\"text-align: right;\">\n",
       "      <th></th>\n",
       "      <th>W</th>\n",
       "      <th>pval</th>\n",
       "      <th>normal</th>\n",
       "    </tr>\n",
       "  </thead>\n",
       "  <tbody>\n",
       "    <tr>\n",
       "      <th>0</th>\n",
       "      <td>0.989862</td>\n",
       "      <td>0.979208</td>\n",
       "      <td>True</td>\n",
       "    </tr>\n",
       "  </tbody>\n",
       "</table>\n",
       "</div>"
      ],
      "text/plain": [
       "          W      pval  normal\n",
       "0  0.989862  0.979208    True"
      ]
     },
     "execution_count": 8,
     "metadata": {},
     "output_type": "execute_result"
    }
   ],
   "source": [
    "pg.normality(group_A)"
   ]
  },
  {
   "cell_type": "code",
   "execution_count": 9,
   "metadata": {},
   "outputs": [
    {
     "data": {
      "text/html": [
       "<div>\n",
       "<style scoped>\n",
       "    .dataframe tbody tr th:only-of-type {\n",
       "        vertical-align: middle;\n",
       "    }\n",
       "\n",
       "    .dataframe tbody tr th {\n",
       "        vertical-align: top;\n",
       "    }\n",
       "\n",
       "    .dataframe thead th {\n",
       "        text-align: right;\n",
       "    }\n",
       "</style>\n",
       "<table border=\"1\" class=\"dataframe\">\n",
       "  <thead>\n",
       "    <tr style=\"text-align: right;\">\n",
       "      <th></th>\n",
       "      <th>T</th>\n",
       "      <th>dof</th>\n",
       "      <th>alternative</th>\n",
       "      <th>p-val</th>\n",
       "      <th>CI95%</th>\n",
       "      <th>cohen-d</th>\n",
       "      <th>BF10</th>\n",
       "      <th>power</th>\n",
       "    </tr>\n",
       "  </thead>\n",
       "  <tbody>\n",
       "    <tr>\n",
       "      <th>T-test</th>\n",
       "      <td>-1.068593</td>\n",
       "      <td>4</td>\n",
       "      <td>two-sided</td>\n",
       "      <td>0.345452</td>\n",
       "      <td>[2.32, 9.08]</td>\n",
       "      <td>0.47789</td>\n",
       "      <td>0.603</td>\n",
       "      <td>0.132614</td>\n",
       "    </tr>\n",
       "  </tbody>\n",
       "</table>\n",
       "</div>"
      ],
      "text/plain": [
       "               T  dof alternative     p-val         CI95%  cohen-d   BF10  \\\n",
       "T-test -1.068593    4   two-sided  0.345452  [2.32, 9.08]  0.47789  0.603   \n",
       "\n",
       "           power  \n",
       "T-test  0.132614  "
      ]
     },
     "execution_count": 9,
     "metadata": {},
     "output_type": "execute_result"
    }
   ],
   "source": [
    "pg.ttest(x=group_A, \n",
    "        y=7,  # 是否认为平均值与y无显著差异\n",
    "        alternative='two-sided',  # 双边检验：greater，less\n",
    "        )"
   ]
  },
  {
   "cell_type": "markdown",
   "metadata": {},
   "source": [
    "### 4. Mann-Whitney U 检验（独立样本非参数检验）\n",
    "\n",
    "**目的和用处：**\n",
    "- **目的：** 检验两个独立的样本的中位数或分布是否有显著差异，而不需要假设数据来自正态分布。\n",
    "- **用处：** 适用于数据不满足正态分布假设的情况，或者样本大小较小，难以做出正态分布假设的情况。\n",
    "\n",
    "**模型假设：**\n",
    "- **独立性假设：** 两个样本是相互独立的。\n",
    "- **中位数假设（或分布假设）：** 非参数检验通常基于中位数或分布的差异来进行推断，而不是基于均值。\n"
   ]
  },
  {
   "cell_type": "code",
   "execution_count": 10,
   "metadata": {},
   "outputs": [
    {
     "data": {
      "text/html": [
       "<div>\n",
       "<style scoped>\n",
       "    .dataframe tbody tr th:only-of-type {\n",
       "        vertical-align: middle;\n",
       "    }\n",
       "\n",
       "    .dataframe tbody tr th {\n",
       "        vertical-align: top;\n",
       "    }\n",
       "\n",
       "    .dataframe thead th {\n",
       "        text-align: right;\n",
       "    }\n",
       "</style>\n",
       "<table border=\"1\" class=\"dataframe\">\n",
       "  <thead>\n",
       "    <tr style=\"text-align: right;\">\n",
       "      <th></th>\n",
       "      <th>U-val</th>\n",
       "      <th>alternative</th>\n",
       "      <th>p-val</th>\n",
       "      <th>RBC</th>\n",
       "      <th>CLES</th>\n",
       "    </tr>\n",
       "  </thead>\n",
       "  <tbody>\n",
       "    <tr>\n",
       "      <th>MWU</th>\n",
       "      <td>11.0</td>\n",
       "      <td>two-sided</td>\n",
       "      <td>0.834035</td>\n",
       "      <td>0.12</td>\n",
       "      <td>0.44</td>\n",
       "    </tr>\n",
       "  </tbody>\n",
       "</table>\n",
       "</div>"
      ],
      "text/plain": [
       "     U-val alternative     p-val   RBC  CLES\n",
       "MWU   11.0   two-sided  0.834035  0.12  0.44"
      ]
     },
     "execution_count": 10,
     "metadata": {},
     "output_type": "execute_result"
    }
   ],
   "source": [
    "# Mann-Whitney U 检验\n",
    "pg.mwu(x=group_A, \n",
    "    y=group_B, \n",
    "    alternative='two-sided',\n",
    "    )"
   ]
  },
  {
   "cell_type": "markdown",
   "metadata": {},
   "source": [
    "\n",
    "\n",
    "\n",
    "### 5. Wilcoxon 符号秩检验（配对样本非参数检验）\n",
    "\n",
    "**目的和用处：**\n",
    "- **目的：** 检验配对样本中的差异（如同一组体系中的两个相关样本）的中位数或分布是否有显著差异。\n",
    "- **用处：** 适用于配对样本不满足正态分布假设的情况，或者数据形状无法明确假设的情况。\n",
    "\n",
    "**模型假设：**\n",
    "- **相关性假设：** 两个样本是相关的，即存在配对关系。\n",
    "- **差值的中位数假设（或分布假设）：** 非参数检验通常基于配对差值的中位数或分布的差异来进行推断。"
   ]
  },
  {
   "cell_type": "code",
   "execution_count": 11,
   "metadata": {},
   "outputs": [
    {
     "data": {
      "text/html": [
       "<div>\n",
       "<style scoped>\n",
       "    .dataframe tbody tr th:only-of-type {\n",
       "        vertical-align: middle;\n",
       "    }\n",
       "\n",
       "    .dataframe tbody tr th {\n",
       "        vertical-align: top;\n",
       "    }\n",
       "\n",
       "    .dataframe thead th {\n",
       "        text-align: right;\n",
       "    }\n",
       "</style>\n",
       "<table border=\"1\" class=\"dataframe\">\n",
       "  <thead>\n",
       "    <tr style=\"text-align: right;\">\n",
       "      <th></th>\n",
       "      <th>W-val</th>\n",
       "      <th>alternative</th>\n",
       "      <th>p-val</th>\n",
       "      <th>RBC</th>\n",
       "      <th>CLES</th>\n",
       "    </tr>\n",
       "  </thead>\n",
       "  <tbody>\n",
       "    <tr>\n",
       "      <th>Wilcoxon</th>\n",
       "      <td>0.0</td>\n",
       "      <td>two-sided</td>\n",
       "      <td>1.490116e-08</td>\n",
       "      <td>-1.0</td>\n",
       "      <td>0.209877</td>\n",
       "    </tr>\n",
       "  </tbody>\n",
       "</table>\n",
       "</div>"
      ],
      "text/plain": [
       "          W-val alternative         p-val  RBC      CLES\n",
       "Wilcoxon    0.0   two-sided  1.490116e-08 -1.0  0.209877"
      ]
     },
     "execution_count": 11,
     "metadata": {},
     "output_type": "execute_result"
    }
   ],
   "source": [
    "pg.wilcoxon(x=df['before'],\n",
    "        y=df['after'],\n",
    "        alternative='two-sided',\n",
    "        )"
   ]
  }
 ],
 "metadata": {
  "kernelspec": {
   "display_name": "py_ds",
   "language": "python",
   "name": "python3"
  },
  "language_info": {
   "codemirror_mode": {
    "name": "ipython",
    "version": 3
   },
   "file_extension": ".py",
   "mimetype": "text/x-python",
   "name": "python",
   "nbconvert_exporter": "python",
   "pygments_lexer": "ipython3",
   "version": "3.11.7"
  }
 },
 "nbformat": 4,
 "nbformat_minor": 2
}
